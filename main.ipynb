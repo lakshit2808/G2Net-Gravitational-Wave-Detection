{
 "cells": [
  {
   "cell_type": "markdown",
   "id": "a0a0cdeb",
   "metadata": {
    "papermill": {
     "duration": 0.055008,
     "end_time": "2021-09-16T10:17:57.239502",
     "exception": false,
     "start_time": "2021-09-16T10:17:57.184494",
     "status": "completed"
    },
    "tags": []
   },
   "source": [
    "# Intro\n",
    "\n",
    "Machine learning can help astronomers sort big data recorded in space exploration.\n",
    "\n",
    "**Gravitational Wave:**\n",
    "\n",
    "Very simply,\n",
    "`A gravitational wave is like ripples in space time. It is usually caused by some of the most violent and energetic processes in the Universe.`\n",
    "\n",
    "They are invisible but incredibly fast. \n",
    "\n",
    "**Why we need to detect GW?**\n",
    "\n",
    "Detecting and analyzing the information carried by gravitational waves is allowing us to observe the Universe in a way never before possible, providing astronomers and other scientists with their first glimpses of literally un-seeable wonders.\n",
    " When a gravitational wave passes by Earth, it squeezes and stretches space. LIGO can detect this squeezing and stretching. Each LIGO observatory has two “arms” that are each more than 2 miles (4 kilometers) long.\n",
    " \n",
    "##### **above info collected via some very rough googling**\n",
    " \n",
    "### Goal\n",
    "\n",
    "The GW was first detected/seen when two blackholes merged into one big black whole back in Sept, 2015.\n",
    "\n",
    "In this competition, our goal is to detect GW signals from the mergers of binary black holes.\n",
    "\n",
    "I am going to document this process as I start with zero idea about any of these.\n",
    "\n",
    "The folowing two kernels have been my overall inspiration to understand this whole task to my best capability. These are really well explained and worth mentioning.\n",
    "\n",
    "- [kernel 1](https://www.kaggle.com/pranay1990/pranay-g2net-gw)\n",
    "- [kernel 2](https://github.com/SiddharthPatel45/gravitational-wave-detection/blob/main/code/gw-detection-modelling.ipynb)\n",
    "- [kernel 3](https://www.kaggle.com/atamazian/nnaudio-constant-q-transform-demonstration/comments)\n",
    "\n",
    "Thank you for sharing your work."
   ]
  },
  {
   "cell_type": "markdown",
   "id": "4d75a63c",
   "metadata": {
    "papermill": {
     "duration": 0.054052,
     "end_time": "2021-09-16T10:17:57.347416",
     "exception": false,
     "start_time": "2021-09-16T10:17:57.293364",
     "status": "completed"
    },
    "tags": []
   },
   "source": [
    "# Imports"
   ]
  },
  {
   "cell_type": "code",
   "execution_count": 1,
   "id": "4fa2a8fd",
   "metadata": {
    "execution": {
     "iopub.execute_input": "2021-09-16T10:17:57.535034Z",
     "iopub.status.busy": "2021-09-16T10:17:57.534347Z",
     "iopub.status.idle": "2021-09-16T10:18:06.116571Z",
     "shell.execute_reply": "2021-09-16T10:18:06.115968Z",
     "shell.execute_reply.started": "2021-09-16T05:32:57.783612Z"
    },
    "papermill": {
     "duration": 8.716114,
     "end_time": "2021-09-16T10:18:06.116706",
     "exception": false,
     "start_time": "2021-09-16T10:17:57.400592",
     "status": "completed"
    },
    "tags": []
   },
   "outputs": [
    {
     "name": "stdout",
     "output_type": "stream",
     "text": [
      "\u001b[33mWARNING: Running pip as the 'root' user can result in broken permissions and conflicting behaviour with the system package manager. It is recommended to use a virtual environment instead: https://pip.pypa.io/warnings/venv\u001b[0m\r\n"
     ]
    }
   ],
   "source": [
    "!pip install -q nnAudio"
   ]
  },
  {
   "cell_type": "code",
   "execution_count": 2,
   "id": "27f0ddec",
   "metadata": {
    "_cell_guid": "b1076dfc-b9ad-4769-8c92-a6c4dae69d19",
    "_uuid": "8f2839f25d086af736a60e9eeb907d3b93b6e0e5",
    "execution": {
     "iopub.execute_input": "2021-09-16T10:18:06.233377Z",
     "iopub.status.busy": "2021-09-16T10:18:06.232602Z",
     "iopub.status.idle": "2021-09-16T10:18:16.466773Z",
     "shell.execute_reply": "2021-09-16T10:18:16.466299Z",
     "shell.execute_reply.started": "2021-09-16T05:33:08.844741Z"
    },
    "papermill": {
     "duration": 10.295319,
     "end_time": "2021-09-16T10:18:16.466936",
     "exception": false,
     "start_time": "2021-09-16T10:18:06.171617",
     "status": "completed"
    },
    "tags": []
   },
   "outputs": [
    {
     "name": "stderr",
     "output_type": "stream",
     "text": [
      "2021-09-16 10:18:07.636069: I tensorflow/stream_executor/platform/default/dso_loader.cc:49] Successfully opened dynamic library libcudart.so.11.0\n"
     ]
    }
   ],
   "source": [
    "import warnings\n",
    "warnings.filterwarnings('ignore')\n",
    "\n",
    "import numpy as np\n",
    "import pandas as pd\n",
    "import matplotlib.pylab as plt\n",
    "import seaborn as sns\n",
    "from glob import glob\n",
    "from tqdm import tqdm\n",
    "from sklearn.model_selection import train_test_split\n",
    "\n",
    "import tensorflow as tf\n",
    "from tensorflow.keras.models import Sequential\n",
    "from tensorflow.keras.optimizers import Adam\n",
    "from tensorflow.keras.layers import Dense\n",
    "from tensorflow.keras.layers import Conv2D\n",
    "from tensorflow.keras.layers import MaxPooling2D\n",
    "from tensorflow.keras.layers import GlobalAveragePooling2D\n",
    "from tensorflow.keras.layers import Flatten\n",
    "from tensorflow.keras.applications import EfficientNetB0\n",
    "from tensorflow.keras.metrics import AUC\n",
    "\n",
    "import librosa.display\n",
    "import torch\n",
    "\n",
    "# this is used for Contant Q Transform\n",
    "from nnAudio.Spectrogram import CQT1992v2\n",
    "from tensorflow.keras.applications import EfficientNetB0 as efn"
   ]
  },
  {
   "cell_type": "markdown",
   "id": "19538100",
   "metadata": {
    "papermill": {
     "duration": 0.054082,
     "end_time": "2021-09-16T10:18:16.576335",
     "exception": false,
     "start_time": "2021-09-16T10:18:16.522253",
     "status": "completed"
    },
    "tags": []
   },
   "source": [
    "## Files\n",
    "\n",
    "```\n",
    "train: contains one npy file per observation.\n",
    "\n",
    "test: we have to predict the probability whether or not the observation contains a gravitational wave.\n",
    "\n",
    "training_labels: If associated signal contains a GW or not.\n",
    "```\n",
    "\n",
    "The waves detected by GW detectors have noises in output signals. So researchers need to find out if the output signal is only **noise** or **signal+noise**.\n",
    "\n",
    "\n",
    "We are provided with a training set of time series data containing simulated gravitational wave measurements from a network of 3 gravitational wave interferometers (LIGO Hanford, LIGO Livingston, and Virgo). \n",
    "\n",
    "This problem is seen as a binary classification problem, if signal is detected or not. \n",
    " "
   ]
  },
  {
   "cell_type": "markdown",
   "id": "f4d8a511",
   "metadata": {
    "papermill": {
     "duration": 0.054328,
     "end_time": "2021-09-16T10:18:16.685073",
     "exception": false,
     "start_time": "2021-09-16T10:18:16.630745",
     "status": "completed"
    },
    "tags": []
   },
   "source": [
    "## Data Exploration"
   ]
  },
  {
   "cell_type": "code",
   "execution_count": 3,
   "id": "aca37c56",
   "metadata": {
    "execution": {
     "iopub.execute_input": "2021-09-16T10:18:16.798743Z",
     "iopub.status.busy": "2021-09-16T10:18:16.798233Z",
     "iopub.status.idle": "2021-09-16T10:18:17.188090Z",
     "shell.execute_reply": "2021-09-16T10:18:17.188472Z",
     "shell.execute_reply.started": "2021-09-16T05:33:20.536087Z"
    },
    "papermill": {
     "duration": 0.449412,
     "end_time": "2021-09-16T10:18:17.188677",
     "exception": false,
     "start_time": "2021-09-16T10:18:16.739265",
     "status": "completed"
    },
    "tags": []
   },
   "outputs": [
    {
     "data": {
      "text/html": [
       "<div>\n",
       "<style scoped>\n",
       "    .dataframe tbody tr th:only-of-type {\n",
       "        vertical-align: middle;\n",
       "    }\n",
       "\n",
       "    .dataframe tbody tr th {\n",
       "        vertical-align: top;\n",
       "    }\n",
       "\n",
       "    .dataframe thead th {\n",
       "        text-align: right;\n",
       "    }\n",
       "</style>\n",
       "<table border=\"1\" class=\"dataframe\">\n",
       "  <thead>\n",
       "    <tr style=\"text-align: right;\">\n",
       "      <th></th>\n",
       "      <th>id</th>\n",
       "      <th>target</th>\n",
       "    </tr>\n",
       "  </thead>\n",
       "  <tbody>\n",
       "    <tr>\n",
       "      <th>0</th>\n",
       "      <td>00000e74ad</td>\n",
       "      <td>1</td>\n",
       "    </tr>\n",
       "    <tr>\n",
       "      <th>1</th>\n",
       "      <td>00001f4945</td>\n",
       "      <td>0</td>\n",
       "    </tr>\n",
       "    <tr>\n",
       "      <th>2</th>\n",
       "      <td>0000661522</td>\n",
       "      <td>0</td>\n",
       "    </tr>\n",
       "    <tr>\n",
       "      <th>3</th>\n",
       "      <td>00007a006a</td>\n",
       "      <td>0</td>\n",
       "    </tr>\n",
       "    <tr>\n",
       "      <th>4</th>\n",
       "      <td>0000a38978</td>\n",
       "      <td>1</td>\n",
       "    </tr>\n",
       "  </tbody>\n",
       "</table>\n",
       "</div>"
      ],
      "text/plain": [
       "           id  target\n",
       "0  00000e74ad       1\n",
       "1  00001f4945       0\n",
       "2  0000661522       0\n",
       "3  00007a006a       0\n",
       "4  0000a38978       1"
      ]
     },
     "execution_count": 3,
     "metadata": {},
     "output_type": "execute_result"
    }
   ],
   "source": [
    "train_label_dataset = pd.read_csv(\"../input/g2net-gravitational-wave-detection/training_labels.csv\")\n",
    "train_label_dataset.head()"
   ]
  },
  {
   "cell_type": "code",
   "execution_count": 4,
   "id": "0ac2eb80",
   "metadata": {
    "execution": {
     "iopub.execute_input": "2021-09-16T10:18:17.304880Z",
     "iopub.status.busy": "2021-09-16T10:18:17.304218Z",
     "iopub.status.idle": "2021-09-16T10:18:17.306920Z",
     "shell.execute_reply": "2021-09-16T10:18:17.307347Z",
     "shell.execute_reply.started": "2021-09-16T05:33:20.980367Z"
    },
    "papermill": {
     "duration": 0.06226,
     "end_time": "2021-09-16T10:18:17.307470",
     "exception": false,
     "start_time": "2021-09-16T10:18:17.245210",
     "status": "completed"
    },
    "tags": []
   },
   "outputs": [
    {
     "data": {
      "text/plain": [
       "(560000, 2)"
      ]
     },
     "execution_count": 4,
     "metadata": {},
     "output_type": "execute_result"
    }
   ],
   "source": [
    "train_label_dataset.shape"
   ]
  },
  {
   "cell_type": "markdown",
   "id": "199a29dc",
   "metadata": {
    "papermill": {
     "duration": 0.054585,
     "end_time": "2021-09-16T10:18:17.416828",
     "exception": false,
     "start_time": "2021-09-16T10:18:17.362243",
     "status": "completed"
    },
    "tags": []
   },
   "source": [
    "when `target = 1` it means that the signal (GW) is present"
   ]
  },
  {
   "cell_type": "code",
   "execution_count": 5,
   "id": "5cc23248",
   "metadata": {
    "execution": {
     "iopub.execute_input": "2021-09-16T10:18:17.533657Z",
     "iopub.status.busy": "2021-09-16T10:18:17.532391Z",
     "iopub.status.idle": "2021-09-16T10:18:17.741127Z",
     "shell.execute_reply": "2021-09-16T10:18:17.741852Z",
     "shell.execute_reply.started": "2021-09-16T05:33:20.990479Z"
    },
    "papermill": {
     "duration": 0.27069,
     "end_time": "2021-09-16T10:18:17.742083",
     "exception": false,
     "start_time": "2021-09-16T10:18:17.471393",
     "status": "completed"
    },
    "tags": []
   },
   "outputs": [
    {
     "data": {
      "text/plain": [
       "<AxesSubplot:xlabel='target', ylabel='count'>"
      ]
     },
     "execution_count": 5,
     "metadata": {},
     "output_type": "execute_result"
    },
    {
     "data": {
      "image/png": "[encoded data removed]",
      "text/plain": [
       "<Figure size 432x288 with 1 Axes>"
      ]
     },
     "metadata": {
      "needs_background": "light"
     },
     "output_type": "display_data"
    }
   ],
   "source": [
    "sns.countplot(data=train_label_dataset, x=\"target\")"
   ]
  },
  {
   "cell_type": "code",
   "execution_count": 6,
   "id": "49ac23b3",
   "metadata": {
    "execution": {
     "iopub.execute_input": "2021-09-16T10:18:17.864898Z",
     "iopub.status.busy": "2021-09-16T10:18:17.864190Z",
     "iopub.status.idle": "2021-09-16T10:18:17.873268Z",
     "shell.execute_reply": "2021-09-16T10:18:17.873666Z",
     "shell.execute_reply.started": "2021-09-16T05:33:21.266400Z"
    },
    "papermill": {
     "duration": 0.070086,
     "end_time": "2021-09-16T10:18:17.873794",
     "exception": false,
     "start_time": "2021-09-16T10:18:17.803708",
     "status": "completed"
    },
    "tags": []
   },
   "outputs": [
    {
     "data": {
      "text/plain": [
       "0    280070\n",
       "1    279930\n",
       "Name: target, dtype: int64"
      ]
     },
     "execution_count": 6,
     "metadata": {},
     "output_type": "execute_result"
    }
   ],
   "source": [
    "train_label_dataset['target'].value_counts()"
   ]
  },
  {
   "cell_type": "markdown",
   "id": "c972af9e",
   "metadata": {
    "papermill": {
     "duration": 0.056039,
     "end_time": "2021-09-16T10:18:17.986063",
     "exception": false,
     "start_time": "2021-09-16T10:18:17.930024",
     "status": "completed"
    },
    "tags": []
   },
   "source": [
    "Looking for null values:"
   ]
  },
  {
   "cell_type": "code",
   "execution_count": 7,
   "id": "7f4de649",
   "metadata": {
    "execution": {
     "iopub.execute_input": "2021-09-16T10:18:18.150044Z",
     "iopub.status.busy": "2021-09-16T10:18:18.149427Z",
     "iopub.status.idle": "2021-09-16T10:18:18.158432Z",
     "shell.execute_reply": "2021-09-16T10:18:18.158797Z",
     "shell.execute_reply.started": "2021-09-16T05:33:21.285548Z"
    },
    "papermill": {
     "duration": 0.117361,
     "end_time": "2021-09-16T10:18:18.158944",
     "exception": false,
     "start_time": "2021-09-16T10:18:18.041583",
     "status": "completed"
    },
    "tags": []
   },
   "outputs": [
    {
     "data": {
      "text/plain": [
       "id        0\n",
       "target    0\n",
       "dtype: int64"
      ]
     },
     "execution_count": 7,
     "metadata": {},
     "output_type": "execute_result"
    }
   ],
   "source": [
    "train_label_dataset.isnull().sum() # no null"
   ]
  },
  {
   "cell_type": "code",
   "execution_count": 8,
   "id": "fed34d0f",
   "metadata": {
    "execution": {
     "iopub.execute_input": "2021-09-16T10:18:18.274173Z",
     "iopub.status.busy": "2021-09-16T10:18:18.273636Z",
     "iopub.status.idle": "2021-09-16T10:19:44.596080Z",
     "shell.execute_reply": "2021-09-16T10:19:44.595056Z",
     "shell.execute_reply.started": "2021-09-16T05:33:21.350034Z"
    },
    "papermill": {
     "duration": 86.381617,
     "end_time": "2021-09-16T10:19:44.596221",
     "exception": false,
     "start_time": "2021-09-16T10:18:18.214604",
     "status": "completed"
    },
    "tags": []
   },
   "outputs": [],
   "source": [
    "train_path = glob('../input/g2net-gravitational-wave-detection/train/*/*/*/*')"
   ]
  },
  {
   "cell_type": "markdown",
   "id": "66ee7f4e",
   "metadata": {
    "papermill": {
     "duration": 0.055774,
     "end_time": "2021-09-16T10:19:44.709290",
     "exception": false,
     "start_time": "2021-09-16T10:19:44.653516",
     "status": "completed"
    },
    "tags": []
   },
   "source": [
    "There are 560,000 **.npy** files in the `train` set"
   ]
  },
  {
   "cell_type": "code",
   "execution_count": 9,
   "id": "bcbaf6ef",
   "metadata": {
    "execution": {
     "iopub.execute_input": "2021-09-16T10:19:44.826462Z",
     "iopub.status.busy": "2021-09-16T10:19:44.825810Z",
     "iopub.status.idle": "2021-09-16T10:19:44.828857Z",
     "shell.execute_reply": "2021-09-16T10:19:44.829252Z",
     "shell.execute_reply.started": "2021-09-16T05:34:49.684439Z"
    },
    "papermill": {
     "duration": 0.064331,
     "end_time": "2021-09-16T10:19:44.829375",
     "exception": false,
     "start_time": "2021-09-16T10:19:44.765044",
     "status": "completed"
    },
    "tags": []
   },
   "outputs": [
    {
     "data": {
      "text/plain": [
       "560000"
      ]
     },
     "execution_count": 9,
     "metadata": {},
     "output_type": "execute_result"
    }
   ],
   "source": [
    "len(train_path)"
   ]
  },
  {
   "cell_type": "markdown",
   "id": "8cf8ec57",
   "metadata": {
    "papermill": {
     "duration": 0.05705,
     "end_time": "2021-09-16T10:19:44.942288",
     "exception": false,
     "start_time": "2021-09-16T10:19:44.885238",
     "status": "completed"
    },
    "tags": []
   },
   "source": [
    "If we want to take a took at how these data looks:\n",
    "\n",
    "lets see how data at index 3 looks"
   ]
  },
  {
   "cell_type": "code",
   "execution_count": 10,
   "id": "9717b491",
   "metadata": {
    "execution": {
     "iopub.execute_input": "2021-09-16T10:19:45.058049Z",
     "iopub.status.busy": "2021-09-16T10:19:45.057488Z",
     "iopub.status.idle": "2021-09-16T10:19:45.074371Z",
     "shell.execute_reply": "2021-09-16T10:19:45.074729Z",
     "shell.execute_reply.started": "2021-09-16T05:34:49.701801Z"
    },
    "papermill": {
     "duration": 0.076601,
     "end_time": "2021-09-16T10:19:45.074872",
     "exception": false,
     "start_time": "2021-09-16T10:19:44.998271",
     "status": "completed"
    },
    "tags": []
   },
   "outputs": [
    {
     "data": {
      "text/plain": [
       "array([[-4.91813710e-23, -7.05830975e-23, -4.32385900e-22, ...,\n",
       "         6.26179817e-21,  6.43188118e-21,  6.66238270e-21],\n",
       "       [ 8.74606391e-23,  4.45734626e-22,  6.40087700e-22, ...,\n",
       "        -6.20618385e-21, -5.87733066e-21, -5.83612734e-21],\n",
       "       [ 1.03456406e-21,  1.31619310e-21,  1.34011440e-21, ...,\n",
       "        -1.65402703e-21, -1.24440865e-21, -1.25836288e-21]])"
      ]
     },
     "execution_count": 10,
     "metadata": {},
     "output_type": "execute_result"
    }
   ],
   "source": [
    "explore_sample_3 = np.load(train_path[3])\n",
    "explore_sample_3"
   ]
  },
  {
   "cell_type": "markdown",
   "id": "c6ed5c47",
   "metadata": {
    "papermill": {
     "duration": 0.055933,
     "end_time": "2021-09-16T10:19:45.187996",
     "exception": false,
     "start_time": "2021-09-16T10:19:45.132063",
     "status": "completed"
    },
    "tags": []
   },
   "source": [
    "We can see that there are 3 rows to the data. This represents data extracted by 3 gravitational wave interferometers (LIGO Hanford, LIGO Livingston, and Virgo) respectively."
   ]
  },
  {
   "cell_type": "code",
   "execution_count": 11,
   "id": "79460e84",
   "metadata": {
    "execution": {
     "iopub.execute_input": "2021-09-16T10:19:45.305453Z",
     "iopub.status.busy": "2021-09-16T10:19:45.304757Z",
     "iopub.status.idle": "2021-09-16T10:19:45.307943Z",
     "shell.execute_reply": "2021-09-16T10:19:45.307441Z",
     "shell.execute_reply.started": "2021-09-16T05:34:49.723921Z"
    },
    "papermill": {
     "duration": 0.063857,
     "end_time": "2021-09-16T10:19:45.308045",
     "exception": false,
     "start_time": "2021-09-16T10:19:45.244188",
     "status": "completed"
    },
    "tags": []
   },
   "outputs": [
    {
     "data": {
      "text/plain": [
       "(3, 4096)"
      ]
     },
     "execution_count": 11,
     "metadata": {},
     "output_type": "execute_result"
    }
   ],
   "source": [
    "explore_sample_3.shape"
   ]
  },
  {
   "cell_type": "markdown",
   "id": "003c0470",
   "metadata": {
    "papermill": {
     "duration": 0.056611,
     "end_time": "2021-09-16T10:19:45.422118",
     "exception": false,
     "start_time": "2021-09-16T10:19:45.365507",
     "status": "completed"
    },
    "tags": []
   },
   "source": [
    "each index of `explore_sample_3` has **4096** columns"
   ]
  },
  {
   "cell_type": "code",
   "execution_count": 12,
   "id": "ea9608d0",
   "metadata": {
    "execution": {
     "iopub.execute_input": "2021-09-16T10:19:45.541476Z",
     "iopub.status.busy": "2021-09-16T10:19:45.540962Z",
     "iopub.status.idle": "2021-09-16T10:19:45.543415Z",
     "shell.execute_reply": "2021-09-16T10:19:45.543902Z",
     "shell.execute_reply.started": "2021-09-16T05:34:49.756751Z"
    },
    "papermill": {
     "duration": 0.064508,
     "end_time": "2021-09-16T10:19:45.544021",
     "exception": false,
     "start_time": "2021-09-16T10:19:45.479513",
     "status": "completed"
    },
    "tags": []
   },
   "outputs": [
    {
     "name": "stdout",
     "output_type": "stream",
     "text": [
      "4096 4096 4096\n"
     ]
    }
   ],
   "source": [
    "print(len(explore_sample_3[0]), len(explore_sample_3[1]), len(explore_sample_3[2]))"
   ]
  },
  {
   "cell_type": "code",
   "execution_count": 13,
   "id": "aca09c9f",
   "metadata": {
    "execution": {
     "iopub.execute_input": "2021-09-16T10:19:45.893278Z",
     "iopub.status.busy": "2021-09-16T10:19:45.660497Z",
     "iopub.status.idle": "2021-09-16T10:19:47.326093Z",
     "shell.execute_reply": "2021-09-16T10:19:47.325570Z",
     "shell.execute_reply.started": "2021-09-16T05:34:49.767545Z"
    },
    "papermill": {
     "duration": 1.725313,
     "end_time": "2021-09-16T10:19:47.326219",
     "exception": false,
     "start_time": "2021-09-16T10:19:45.600906",
     "status": "completed"
    },
    "tags": []
   },
   "outputs": [
    {
     "name": "stderr",
     "output_type": "stream",
     "text": [
      "2021-09-16 10:19:45.662237: I tensorflow/compiler/jit/xla_cpu_device.cc:41] Not creating XLA devices, tf_xla_enable_xla_devices not set\n",
      "2021-09-16 10:19:45.666218: I tensorflow/stream_executor/platform/default/dso_loader.cc:49] Successfully opened dynamic library libcuda.so.1\n",
      "2021-09-16 10:19:45.712228: I tensorflow/stream_executor/cuda/cuda_gpu_executor.cc:941] successful NUMA node read from SysFS had negative value (-1), but there must be at least one NUMA node, so returning NUMA node zero\n",
      "2021-09-16 10:19:45.712833: I tensorflow/core/common_runtime/gpu/gpu_device.cc:1720] Found device 0 with properties: \n",
      "pciBusID: 0000:00:04.0 name: Tesla P100-PCIE-16GB computeCapability: 6.0\n",
      "coreClock: 1.3285GHz coreCount: 56 deviceMemorySize: 15.90GiB deviceMemoryBandwidth: 681.88GiB/s\n",
      "2021-09-16 10:19:45.712930: I tensorflow/stream_executor/platform/default/dso_loader.cc:49] Successfully opened dynamic library libcudart.so.11.0\n",
      "2021-09-16 10:19:45.735539: I tensorflow/stream_executor/platform/default/dso_loader.cc:49] Successfully opened dynamic library libcublas.so.11\n",
      "2021-09-16 10:19:45.735631: I tensorflow/stream_executor/platform/default/dso_loader.cc:49] Successfully opened dynamic library libcublasLt.so.11\n",
      "2021-09-16 10:19:45.752016: I tensorflow/stream_executor/platform/default/dso_loader.cc:49] Successfully opened dynamic library libcufft.so.10\n",
      "2021-09-16 10:19:45.804125: I tensorflow/stream_executor/platform/default/dso_loader.cc:49] Successfully opened dynamic library libcurand.so.10\n",
      "2021-09-16 10:19:45.857311: I tensorflow/stream_executor/platform/default/dso_loader.cc:49] Successfully opened dynamic library libcusolver.so.10\n",
      "2021-09-16 10:19:45.885959: I tensorflow/stream_executor/platform/default/dso_loader.cc:49] Successfully opened dynamic library libcusparse.so.11\n",
      "2021-09-16 10:19:45.888419: I tensorflow/stream_executor/platform/default/dso_loader.cc:49] Successfully opened dynamic library libcudnn.so.8\n",
      "2021-09-16 10:19:45.888622: I tensorflow/stream_executor/cuda/cuda_gpu_executor.cc:941] successful NUMA node read from SysFS had negative value (-1), but there must be at least one NUMA node, so returning NUMA node zero\n",
      "2021-09-16 10:19:45.889406: I tensorflow/stream_executor/cuda/cuda_gpu_executor.cc:941] successful NUMA node read from SysFS had negative value (-1), but there must be at least one NUMA node, so returning NUMA node zero\n",
      "2021-09-16 10:19:45.891123: I tensorflow/core/common_runtime/gpu/gpu_device.cc:1862] Adding visible gpu devices: 0\n",
      "2021-09-16 10:19:45.893846: I tensorflow/core/platform/cpu_feature_guard.cc:142] This TensorFlow binary is optimized with oneAPI Deep Neural Network Library (oneDNN) to use the following CPU instructions in performance-critical operations:  AVX2 AVX512F FMA\n",
      "To enable them in other operations, rebuild TensorFlow with the appropriate compiler flags.\n"
     ]
    },
    {
     "data": {
      "text/plain": [
       "<tf.Tensor: shape=(4096,), dtype=float64, numpy=\n",
       "array([-4.91813710e-23, -7.05830975e-23, -4.32385900e-22, ...,\n",
       "        6.26179817e-21,  6.43188118e-21,  6.66238270e-21])>"
      ]
     },
     "execution_count": 13,
     "metadata": {},
     "output_type": "execute_result"
    },
    {
     "name": "stderr",
     "output_type": "stream",
     "text": [
      "2021-09-16 10:19:45.894876: I tensorflow/compiler/jit/xla_gpu_device.cc:99] Not creating XLA devices, tf_xla_enable_xla_devices not set\n",
      "2021-09-16 10:19:45.895050: I tensorflow/stream_executor/cuda/cuda_gpu_executor.cc:941] successful NUMA node read from SysFS had negative value (-1), but there must be at least one NUMA node, so returning NUMA node zero\n",
      "2021-09-16 10:19:45.895643: I tensorflow/core/common_runtime/gpu/gpu_device.cc:1720] Found device 0 with properties: \n",
      "pciBusID: 0000:00:04.0 name: Tesla P100-PCIE-16GB computeCapability: 6.0\n",
      "coreClock: 1.3285GHz coreCount: 56 deviceMemorySize: 15.90GiB deviceMemoryBandwidth: 681.88GiB/s\n",
      "2021-09-16 10:19:45.895703: I tensorflow/stream_executor/platform/default/dso_loader.cc:49] Successfully opened dynamic library libcudart.so.11.0\n",
      "2021-09-16 10:19:45.895738: I tensorflow/stream_executor/platform/default/dso_loader.cc:49] Successfully opened dynamic library libcublas.so.11\n",
      "2021-09-16 10:19:45.895760: I tensorflow/stream_executor/platform/default/dso_loader.cc:49] Successfully opened dynamic library libcublasLt.so.11\n",
      "2021-09-16 10:19:45.895780: I tensorflow/stream_executor/platform/default/dso_loader.cc:49] Successfully opened dynamic library libcufft.so.10\n",
      "2021-09-16 10:19:45.895800: I tensorflow/stream_executor/platform/default/dso_loader.cc:49] Successfully opened dynamic library libcurand.so.10\n",
      "2021-09-16 10:19:45.895820: I tensorflow/stream_executor/platform/default/dso_loader.cc:49] Successfully opened dynamic library libcusolver.so.10\n",
      "2021-09-16 10:19:45.895860: I tensorflow/stream_executor/platform/default/dso_loader.cc:49] Successfully opened dynamic library libcusparse.so.11\n",
      "2021-09-16 10:19:45.895895: I tensorflow/stream_executor/platform/default/dso_loader.cc:49] Successfully opened dynamic library libcudnn.so.8\n",
      "2021-09-16 10:19:45.895982: I tensorflow/stream_executor/cuda/cuda_gpu_executor.cc:941] successful NUMA node read from SysFS had negative value (-1), but there must be at least one NUMA node, so returning NUMA node zero\n",
      "2021-09-16 10:19:45.896594: I tensorflow/stream_executor/cuda/cuda_gpu_executor.cc:941] successful NUMA node read from SysFS had negative value (-1), but there must be at least one NUMA node, so returning NUMA node zero\n",
      "2021-09-16 10:19:45.897132: I tensorflow/core/common_runtime/gpu/gpu_device.cc:1862] Adding visible gpu devices: 0\n",
      "2021-09-16 10:19:45.898012: I tensorflow/stream_executor/platform/default/dso_loader.cc:49] Successfully opened dynamic library libcudart.so.11.0\n",
      "2021-09-16 10:19:47.305763: I tensorflow/core/common_runtime/gpu/gpu_device.cc:1261] Device interconnect StreamExecutor with strength 1 edge matrix:\n",
      "2021-09-16 10:19:47.305815: I tensorflow/core/common_runtime/gpu/gpu_device.cc:1267]      0 \n",
      "2021-09-16 10:19:47.305826: I tensorflow/core/common_runtime/gpu/gpu_device.cc:1280] 0:   N \n",
      "2021-09-16 10:19:47.308078: I tensorflow/stream_executor/cuda/cuda_gpu_executor.cc:941] successful NUMA node read from SysFS had negative value (-1), but there must be at least one NUMA node, so returning NUMA node zero\n",
      "2021-09-16 10:19:47.308791: I tensorflow/stream_executor/cuda/cuda_gpu_executor.cc:941] successful NUMA node read from SysFS had negative value (-1), but there must be at least one NUMA node, so returning NUMA node zero\n",
      "2021-09-16 10:19:47.309460: I tensorflow/stream_executor/cuda/cuda_gpu_executor.cc:941] successful NUMA node read from SysFS had negative value (-1), but there must be at least one NUMA node, so returning NUMA node zero\n",
      "2021-09-16 10:19:47.310034: I tensorflow/core/common_runtime/gpu/gpu_device.cc:1406] Created TensorFlow device (/job:localhost/replica:0/task:0/device:GPU:0 with 14957 MB memory) -> physical GPU (device: 0, name: Tesla P100-PCIE-16GB, pci bus id: 0000:00:04.0, compute capability: 6.0)\n"
     ]
    }
   ],
   "source": [
    "# just a tensor representation\n",
    "tf.convert_to_tensor(explore_sample_3[0])"
   ]
  },
  {
   "cell_type": "markdown",
   "id": "cd27a87f",
   "metadata": {
    "papermill": {
     "duration": 0.059457,
     "end_time": "2021-09-16T10:19:47.444424",
     "exception": false,
     "start_time": "2021-09-16T10:19:47.384967",
     "status": "completed"
    },
    "tags": []
   },
   "source": [
    "## Exploring the sample data with Librosa\n",
    "\n",
    "Librosa is a python package for music and audio analysis, more about this awesome library can be found [here](https://librosa.org/doc/latest/index.html).\n",
    "\n",
    "There is a very good kernel that can be found [here](https://www.kaggle.com/hinamimi/visualization-gravitational-wave-with-librosa).\n",
    "It has really great demonstration of how to use Librosa.\n",
    "\n",
    "Now first I will find the `label` (id) of `explore_sample_3` from the `training_label.csv` dataset. After that I can find whether the target is 1 or 0.\n",
    "\n",
    "- 0 = negative sample\n",
    "- 1 = possotive sample"
   ]
  },
  {
   "cell_type": "code",
   "execution_count": 14,
   "id": "e7ab8312",
   "metadata": {
    "execution": {
     "iopub.execute_input": "2021-09-16T10:19:47.565828Z",
     "iopub.status.busy": "2021-09-16T10:19:47.565155Z",
     "iopub.status.idle": "2021-09-16T10:19:47.568397Z",
     "shell.execute_reply": "2021-09-16T10:19:47.567907Z",
     "shell.execute_reply.started": "2021-09-16T05:34:51.771790Z"
    },
    "papermill": {
     "duration": 0.06627,
     "end_time": "2021-09-16T10:19:47.568505",
     "exception": false,
     "start_time": "2021-09-16T10:19:47.502235",
     "status": "completed"
    },
    "tags": []
   },
   "outputs": [
    {
     "data": {
      "text/plain": [
       "'../input/g2net-gravitational-wave-detection/train/7/7/7/77727f6826.npy'"
      ]
     },
     "execution_count": 14,
     "metadata": {},
     "output_type": "execute_result"
    }
   ],
   "source": [
    "train_path[3]"
   ]
  },
  {
   "cell_type": "markdown",
   "id": "0c281567",
   "metadata": {
    "papermill": {
     "duration": 0.058027,
     "end_time": "2021-09-16T10:19:47.685037",
     "exception": false,
     "start_time": "2021-09-16T10:19:47.627010",
     "status": "completed"
    },
    "tags": []
   },
   "source": [
    "the value of `train_path` at index 3 looks like:'\n",
    "\n",
    "'../input/g2net-gravitational-wave-detection/train/7/7/7/77727f6826.npy'\n",
    "\n",
    "So, we know that the Id of `explore_sample_3` is **77727f6826**. To extract the Id the following code snippet has been written. \n",
    "\n"
   ]
  },
  {
   "cell_type": "code",
   "execution_count": 15,
   "id": "44607d6b",
   "metadata": {
    "execution": {
     "iopub.execute_input": "2021-09-16T10:19:47.807218Z",
     "iopub.status.busy": "2021-09-16T10:19:47.806518Z",
     "iopub.status.idle": "2021-09-16T10:19:47.809763Z",
     "shell.execute_reply": "2021-09-16T10:19:47.809382Z",
     "shell.execute_reply.started": "2021-09-16T05:34:51.783895Z"
    },
    "papermill": {
     "duration": 0.06649,
     "end_time": "2021-09-16T10:19:47.809883",
     "exception": false,
     "start_time": "2021-09-16T10:19:47.743393",
     "status": "completed"
    },
    "tags": []
   },
   "outputs": [
    {
     "data": {
      "text/plain": [
       "'77727f6826'"
      ]
     },
     "execution_count": 15,
     "metadata": {},
     "output_type": "execute_result"
    }
   ],
   "source": [
    "rind = train_path[3].rindex('/') # last index where the character '/' appeared\n",
    "extracted_id_for_explore_sample_3 = train_path[3][rind+1:].replace('.npy', '') # replaced .npy\n",
    "extracted_id_for_explore_sample_3"
   ]
  },
  {
   "cell_type": "markdown",
   "id": "10ffe6bd",
   "metadata": {
    "papermill": {
     "duration": 0.058267,
     "end_time": "2021-09-16T10:19:47.926552",
     "exception": false,
     "start_time": "2021-09-16T10:19:47.868285",
     "status": "completed"
    },
    "tags": []
   },
   "source": [
    "We see that it is a positive sample"
   ]
  },
  {
   "cell_type": "code",
   "execution_count": 16,
   "id": "0ff9e942",
   "metadata": {
    "execution": {
     "iopub.execute_input": "2021-09-16T10:19:48.123772Z",
     "iopub.status.busy": "2021-09-16T10:19:48.123254Z",
     "iopub.status.idle": "2021-09-16T10:19:48.131068Z",
     "shell.execute_reply": "2021-09-16T10:19:48.130639Z",
     "shell.execute_reply.started": "2021-09-16T05:34:51.796933Z"
    },
    "papermill": {
     "duration": 0.145958,
     "end_time": "2021-09-16T10:19:48.131177",
     "exception": false,
     "start_time": "2021-09-16T10:19:47.985219",
     "status": "completed"
    },
    "tags": []
   },
   "outputs": [
    {
     "data": {
      "text/plain": [
       "260633    1\n",
       "Name: target, dtype: int64"
      ]
     },
     "execution_count": 16,
     "metadata": {},
     "output_type": "execute_result"
    }
   ],
   "source": [
    "train_label_dataset[train_label_dataset['id']==extracted_id_for_explore_sample_3]['target']"
   ]
  },
  {
   "cell_type": "code",
   "execution_count": 17,
   "id": "c164912c",
   "metadata": {
    "execution": {
     "iopub.execute_input": "2021-09-16T10:19:48.251822Z",
     "iopub.status.busy": "2021-09-16T10:19:48.251268Z",
     "iopub.status.idle": "2021-09-16T10:19:48.276335Z",
     "shell.execute_reply": "2021-09-16T10:19:48.275927Z",
     "shell.execute_reply.started": "2021-09-16T05:34:51.885670Z"
    },
    "papermill": {
     "duration": 0.086927,
     "end_time": "2021-09-16T10:19:48.276435",
     "exception": false,
     "start_time": "2021-09-16T10:19:48.189508",
     "status": "completed"
    },
    "tags": []
   },
   "outputs": [
    {
     "data": {
      "text/plain": [
       "array([[ 2.49326541e-21,  2.63875831e-21,  2.67429292e-21, ...,\n",
       "        -4.30302340e-21, -4.00593880e-21, -3.85241057e-21],\n",
       "       [ 7.73002228e-21,  8.01979014e-21,  7.91870743e-21, ...,\n",
       "         1.04513696e-20,  9.99928547e-21,  9.89037961e-21],\n",
       "       [ 2.97443076e-21,  2.87887774e-21,  3.22765898e-21, ...,\n",
       "        -1.08232844e-21, -7.93737008e-22, -1.00988622e-21]])"
      ]
     },
     "execution_count": 17,
     "metadata": {},
     "output_type": "execute_result"
    }
   ],
   "source": [
    "positive_sample = explore_sample_3\n",
    "# index 1 od train_path has a target of 0 so it is a negative sample.\n",
    "negative_sample = np.load(train_path[1])\n",
    "negative_sample"
   ]
  },
  {
   "cell_type": "code",
   "execution_count": 18,
   "id": "11e998bc",
   "metadata": {
    "execution": {
     "iopub.execute_input": "2021-09-16T10:19:48.397606Z",
     "iopub.status.busy": "2021-09-16T10:19:48.397121Z",
     "iopub.status.idle": "2021-09-16T10:19:48.400251Z",
     "shell.execute_reply": "2021-09-16T10:19:48.400637Z",
     "shell.execute_reply.started": "2021-09-16T05:34:51.907035Z"
    },
    "papermill": {
     "duration": 0.065375,
     "end_time": "2021-09-16T10:19:48.400750",
     "exception": false,
     "start_time": "2021-09-16T10:19:48.335375",
     "status": "completed"
    },
    "tags": []
   },
   "outputs": [],
   "source": [
    "samples = (positive_sample, negative_sample)\n",
    "targets = (1, 0)"
   ]
  },
  {
   "cell_type": "markdown",
   "id": "c02e7fa2",
   "metadata": {
    "papermill": {
     "duration": 0.058708,
     "end_time": "2021-09-16T10:19:48.518674",
     "exception": false,
     "start_time": "2021-09-16T10:19:48.459966",
     "status": "completed"
    },
    "tags": []
   },
   "source": [
    "Using librosa.display() to view raw waves: \n",
    "\n",
    "Kernel: https://www.kaggle.com/hinamimi/visualization-gravitational-wave-with-librosa"
   ]
  },
  {
   "cell_type": "code",
   "execution_count": 19,
   "id": "24d0e63a",
   "metadata": {
    "execution": {
     "iopub.execute_input": "2021-09-16T10:19:48.644065Z",
     "iopub.status.busy": "2021-09-16T10:19:48.643521Z",
     "iopub.status.idle": "2021-09-16T10:19:50.052486Z",
     "shell.execute_reply": "2021-09-16T10:19:50.053208Z",
     "shell.execute_reply.started": "2021-09-16T05:34:51.917135Z"
    },
    "papermill": {
     "duration": 1.475215,
     "end_time": "2021-09-16T10:19:50.053549",
     "exception": false,
     "start_time": "2021-09-16T10:19:48.578334",
     "status": "completed"
    },
    "tags": []
   },
   "outputs": [
    {
     "name": "stderr",
     "output_type": "stream",
     "text": [
      "0it [00:00, ?it/s]"
     ]
    },
    {
     "data": {
      "image/png": "[encoded data removed]",
      "text/plain": [
       "<Figure size 1152x504 with 3 Axes>"
      ]
     },
     "metadata": {
      "needs_background": "light"
     },
     "output_type": "display_data"
    },
    {
     "name": "stderr",
     "output_type": "stream",
     "text": [
      "1it [00:00,  1.44it/s]"
     ]
    },
    {
     "data": {
      "image/png": "[encoded data removed]",
      "text/plain": [
       "<Figure size 1152x504 with 3 Axes>"
      ]
     },
     "metadata": {
      "needs_background": "light"
     },
     "output_type": "display_data"
    },
    {
     "name": "stderr",
     "output_type": "stream",
     "text": [
      "2it [00:01,  1.43it/s]\n"
     ]
    }
   ],
   "source": [
    "colors = (\"red\", \"green\", \"blue\")\n",
    "signal_names = (\"LIGO Hanford\", \"LIGO Livingston\", \"Virgo\")\n",
    "\n",
    "for x, i in tqdm(zip(samples, targets)):\n",
    "    figure = plt.figure(figsize=(16, 7))\n",
    "    figure.suptitle(f'Raw wave (target={i})', fontsize=20)\n",
    "    # range is 3 because we have 3 different rows for each interferometers\n",
    "    for j in range(3):\n",
    "        axes = figure.add_subplot(3, 1, j+1)\n",
    "        librosa.display.waveshow(x[j], sr=2048, ax=axes, color=colors[j])\n",
    "        axes.set_title(signal_names[j], fontsize=12)\n",
    "        axes.set_xlabel('Time[sec]')\n",
    "    plt.tight_layout()\n",
    "    plt.show()"
   ]
  },
  {
   "cell_type": "code",
   "execution_count": 20,
   "id": "2982a87a",
   "metadata": {
    "execution": {
     "iopub.execute_input": "2021-09-16T10:19:50.199910Z",
     "iopub.status.busy": "2021-09-16T10:19:50.194959Z",
     "iopub.status.idle": "2021-09-16T10:19:50.552911Z",
     "shell.execute_reply": "2021-09-16T10:19:50.553322Z",
     "shell.execute_reply.started": "2021-09-16T05:34:53.673094Z"
    },
    "papermill": {
     "duration": 0.431647,
     "end_time": "2021-09-16T10:19:50.553460",
     "exception": false,
     "start_time": "2021-09-16T10:19:50.121813",
     "status": "completed"
    },
    "tags": []
   },
   "outputs": [
    {
     "data": {
      "text/plain": [
       "<seaborn.axisgrid.FacetGrid at 0x7ff6acc93fd0>"
      ]
     },
     "execution_count": 20,
     "metadata": {},
     "output_type": "execute_result"
    },
    {
     "data": {
      "image/png": "[encoded data removed]",
      "text/plain": [
       "<Figure size 360x360 with 1 Axes>"
      ]
     },
     "metadata": {
      "needs_background": "light"
     },
     "output_type": "display_data"
    }
   ],
   "source": [
    "sns.displot(positive_sample[0,:])"
   ]
  },
  {
   "cell_type": "markdown",
   "id": "b10ead22",
   "metadata": {
    "papermill": {
     "duration": 0.066087,
     "end_time": "2021-09-16T10:19:50.686287",
     "exception": false,
     "start_time": "2021-09-16T10:19:50.620200",
     "status": "completed"
    },
    "tags": []
   },
   "source": [
    "## Working with a cleaner datset by merging `train` and `training_labels` datasets"
   ]
  },
  {
   "cell_type": "code",
   "execution_count": 21,
   "id": "4ebb897d",
   "metadata": {
    "execution": {
     "iopub.execute_input": "2021-09-16T10:19:50.824389Z",
     "iopub.status.busy": "2021-09-16T10:19:50.823635Z",
     "iopub.status.idle": "2021-09-16T10:19:50.826165Z",
     "shell.execute_reply": "2021-09-16T10:19:50.825721Z",
     "shell.execute_reply.started": "2021-09-16T05:34:54.180476Z"
    },
    "papermill": {
     "duration": 0.074082,
     "end_time": "2021-09-16T10:19:50.826275",
     "exception": false,
     "start_time": "2021-09-16T10:19:50.752193",
     "status": "completed"
    },
    "tags": []
   },
   "outputs": [],
   "source": [
    "pd.set_option('display.max_colwidth',None)"
   ]
  },
  {
   "cell_type": "code",
   "execution_count": 22,
   "id": "123fd518",
   "metadata": {
    "execution": {
     "iopub.execute_input": "2021-09-16T10:19:51.008330Z",
     "iopub.status.busy": "2021-09-16T10:19:50.993060Z",
     "iopub.status.idle": "2021-09-16T10:19:51.898367Z",
     "shell.execute_reply": "2021-09-16T10:19:51.898824Z",
     "shell.execute_reply.started": "2021-09-16T05:34:54.189245Z"
    },
    "papermill": {
     "duration": 1.006209,
     "end_time": "2021-09-16T10:19:51.899081",
     "exception": false,
     "start_time": "2021-09-16T10:19:50.892872",
     "status": "completed"
    },
    "tags": []
   },
   "outputs": [],
   "source": [
    "ids = []\n",
    "for files in train_path:\n",
    "    ids.append(files[files.rindex('/')+1:].replace('.npy',''))\n",
    "df = pd.DataFrame({\"id\":ids,\"path\":train_path})\n",
    "df = pd.merge(df, train_label_dataset, on='id')"
   ]
  },
  {
   "cell_type": "code",
   "execution_count": 23,
   "id": "06a924bd",
   "metadata": {
    "execution": {
     "iopub.execute_input": "2021-09-16T10:19:52.077947Z",
     "iopub.status.busy": "2021-09-16T10:19:52.077076Z",
     "iopub.status.idle": "2021-09-16T10:19:52.084071Z",
     "shell.execute_reply": "2021-09-16T10:19:52.084537Z",
     "shell.execute_reply.started": "2021-09-16T05:34:55.288056Z"
    },
    "papermill": {
     "duration": 0.117554,
     "end_time": "2021-09-16T10:19:52.084688",
     "exception": false,
     "start_time": "2021-09-16T10:19:51.967134",
     "status": "completed"
    },
    "tags": []
   },
   "outputs": [
    {
     "data": {
      "text/html": [
       "<div>\n",
       "<style scoped>\n",
       "    .dataframe tbody tr th:only-of-type {\n",
       "        vertical-align: middle;\n",
       "    }\n",
       "\n",
       "    .dataframe tbody tr th {\n",
       "        vertical-align: top;\n",
       "    }\n",
       "\n",
       "    .dataframe thead th {\n",
       "        text-align: right;\n",
       "    }\n",
       "</style>\n",
       "<table border=\"1\" class=\"dataframe\">\n",
       "  <thead>\n",
       "    <tr style=\"text-align: right;\">\n",
       "      <th></th>\n",
       "      <th>id</th>\n",
       "      <th>path</th>\n",
       "      <th>target</th>\n",
       "    </tr>\n",
       "  </thead>\n",
       "  <tbody>\n",
       "    <tr>\n",
       "      <th>0</th>\n",
       "      <td>777d746e90</td>\n",
       "      <td>../input/g2net-gravitational-wave-detection/train/7/7/7/777d746e90.npy</td>\n",
       "      <td>1</td>\n",
       "    </tr>\n",
       "    <tr>\n",
       "      <th>1</th>\n",
       "      <td>777ecfbd65</td>\n",
       "      <td>../input/g2net-gravitational-wave-detection/train/7/7/7/777ecfbd65.npy</td>\n",
       "      <td>0</td>\n",
       "    </tr>\n",
       "    <tr>\n",
       "      <th>2</th>\n",
       "      <td>7770956992</td>\n",
       "      <td>../input/g2net-gravitational-wave-detection/train/7/7/7/7770956992.npy</td>\n",
       "      <td>1</td>\n",
       "    </tr>\n",
       "    <tr>\n",
       "      <th>3</th>\n",
       "      <td>77727f6826</td>\n",
       "      <td>../input/g2net-gravitational-wave-detection/train/7/7/7/77727f6826.npy</td>\n",
       "      <td>1</td>\n",
       "    </tr>\n",
       "    <tr>\n",
       "      <th>4</th>\n",
       "      <td>777c84c377</td>\n",
       "      <td>../input/g2net-gravitational-wave-detection/train/7/7/7/777c84c377.npy</td>\n",
       "      <td>0</td>\n",
       "    </tr>\n",
       "  </tbody>\n",
       "</table>\n",
       "</div>"
      ],
      "text/plain": [
       "           id  \\\n",
       "0  777d746e90   \n",
       "1  777ecfbd65   \n",
       "2  7770956992   \n",
       "3  77727f6826   \n",
       "4  777c84c377   \n",
       "\n",
       "                                                                     path  \\\n",
       "0  ../input/g2net-gravitational-wave-detection/train/7/7/7/777d746e90.npy   \n",
       "1  ../input/g2net-gravitational-wave-detection/train/7/7/7/777ecfbd65.npy   \n",
       "2  ../input/g2net-gravitational-wave-detection/train/7/7/7/7770956992.npy   \n",
       "3  ../input/g2net-gravitational-wave-detection/train/7/7/7/77727f6826.npy   \n",
       "4  ../input/g2net-gravitational-wave-detection/train/7/7/7/777c84c377.npy   \n",
       "\n",
       "   target  \n",
       "0       1  \n",
       "1       0  \n",
       "2       1  \n",
       "3       1  \n",
       "4       0  "
      ]
     },
     "execution_count": 23,
     "metadata": {},
     "output_type": "execute_result"
    }
   ],
   "source": [
    "df.head()"
   ]
  },
  {
   "cell_type": "code",
   "execution_count": 24,
   "id": "f8fbca4c",
   "metadata": {
    "execution": {
     "iopub.execute_input": "2021-09-16T10:19:52.341562Z",
     "iopub.status.busy": "2021-09-16T10:19:52.340925Z",
     "iopub.status.idle": "2021-09-16T10:19:52.344873Z",
     "shell.execute_reply": "2021-09-16T10:19:52.345456Z",
     "shell.execute_reply.started": "2021-09-16T05:34:55.303965Z"
    },
    "papermill": {
     "duration": 0.129448,
     "end_time": "2021-09-16T10:19:52.345639",
     "exception": false,
     "start_time": "2021-09-16T10:19:52.216191",
     "status": "completed"
    },
    "tags": []
   },
   "outputs": [
    {
     "data": {
      "text/plain": [
       "(560000, 3)"
      ]
     },
     "execution_count": 24,
     "metadata": {},
     "output_type": "execute_result"
    }
   ],
   "source": [
    "df.shape"
   ]
  },
  {
   "cell_type": "markdown",
   "id": "9976d5cc",
   "metadata": {
    "papermill": {
     "duration": 0.113612,
     "end_time": "2021-09-16T10:19:52.573376",
     "exception": false,
     "start_time": "2021-09-16T10:19:52.459764",
     "status": "completed"
    },
    "tags": []
   },
   "source": [
    "# Preprocessing\n",
    "\n",
    "#### Core Idea: \n",
    "If any particular frequency is widespread in the signal or not. If true then our required GW is present.\n",
    "\n",
    "Approach:\n",
    "\n",
    "- convert original signal  -->  spectrogram signal\n",
    "- coverting from time domain  --> frequency domain\n",
    "    - done using **[Constant Q transformation](https://en.wikipedia.org/wiki/Constant-Q_transform)**\n",
    "    - **[kernel](https://www.kaggle.com/atamazian/nnaudio-constant-q-transform-demonstration/comments)**\n"
   ]
  },
  {
   "cell_type": "markdown",
   "id": "1dc7d363",
   "metadata": {
    "papermill": {
     "duration": 0.066678,
     "end_time": "2021-09-16T10:19:52.710207",
     "exception": false,
     "start_time": "2021-09-16T10:19:52.643529",
     "status": "completed"
    },
    "tags": []
   },
   "source": [
    "I refer to the kernel [here](https://www.kaggle.com/atamazian/nnaudio-constant-q-transform-demonstration/comments) to define my CQT.\n",
    "\n",
    "Please have a look. "
   ]
  },
  {
   "cell_type": "code",
   "execution_count": 25,
   "id": "3f25a528",
   "metadata": {
    "execution": {
     "iopub.execute_input": "2021-09-16T10:19:52.848695Z",
     "iopub.status.busy": "2021-09-16T10:19:52.846224Z",
     "iopub.status.idle": "2021-09-16T10:19:52.884735Z",
     "shell.execute_reply": "2021-09-16T10:19:52.885128Z",
     "shell.execute_reply.started": "2021-09-16T05:34:55.319312Z"
    },
    "papermill": {
     "duration": 0.108119,
     "end_time": "2021-09-16T10:19:52.885261",
     "exception": false,
     "start_time": "2021-09-16T10:19:52.777142",
     "status": "completed"
    },
    "tags": []
   },
   "outputs": [],
   "source": [
    "# CQT\n",
    "transform = CQT1992v2(sr=2048,        # sample rate\n",
    "                fmin=20,        # min freq\n",
    "                fmax=500,      # max freq\n",
    "                hop_length=64,  # hop length\n",
    "                verbose=False)"
   ]
  },
  {
   "cell_type": "code",
   "execution_count": 26,
   "id": "4f770886",
   "metadata": {
    "execution": {
     "iopub.execute_input": "2021-09-16T10:19:53.027139Z",
     "iopub.status.busy": "2021-09-16T10:19:53.026492Z",
     "iopub.status.idle": "2021-09-16T10:19:53.028707Z",
     "shell.execute_reply": "2021-09-16T10:19:53.029166Z",
     "shell.execute_reply.started": "2021-09-16T05:34:55.371831Z"
    },
    "papermill": {
     "duration": 0.076763,
     "end_time": "2021-09-16T10:19:53.029293",
     "exception": false,
     "start_time": "2021-09-16T10:19:52.952530",
     "status": "completed"
    },
    "tags": []
   },
   "outputs": [],
   "source": [
    "# the Cqt function\n",
    "# preprocess function\n",
    "def preprocess_function_cqt(path):\n",
    "    signal = np.load(path.numpy())\n",
    "    # there are 3 signal as explained before for each interferometers\n",
    "    for i in range(signal.shape[0]):\n",
    "        # normalize signal\n",
    "        signal[i] /= np.max(signal[i])\n",
    "    # horizontal stack\n",
    "    signal = np.hstack(signal)\n",
    "    # tensor conversion\n",
    "    signal = torch.from_numpy(signal).float()\n",
    "    # getting the image from CQT transform\n",
    "    image = transform(signal)\n",
    "    # converting to array from tensor\n",
    "    image = np.array(image)\n",
    "    # transpose the image to get right orientation\n",
    "    image = np.transpose(image,(1,2,0))\n",
    "    \n",
    "    # conver the image to tf.tensor and return\n",
    "    return tf.convert_to_tensor(image)"
   ]
  },
  {
   "cell_type": "code",
   "execution_count": 27,
   "id": "6eff0701",
   "metadata": {
    "execution": {
     "iopub.execute_input": "2021-09-16T10:19:53.167744Z",
     "iopub.status.busy": "2021-09-16T10:19:53.166910Z",
     "iopub.status.idle": "2021-09-16T10:19:53.441387Z",
     "shell.execute_reply": "2021-09-16T10:19:53.442049Z",
     "shell.execute_reply.started": "2021-09-16T05:34:55.383813Z"
    },
    "papermill": {
     "duration": 0.345878,
     "end_time": "2021-09-16T10:19:53.442209",
     "exception": false,
     "start_time": "2021-09-16T10:19:53.096331",
     "status": "completed"
    },
    "tags": []
   },
   "outputs": [
    {
     "name": "stdout",
     "output_type": "stream",
     "text": [
      "(56, 193, 1)\n"
     ]
    },
    {
     "data": {
      "text/plain": [
       "<matplotlib.image.AxesImage at 0x7ff605564590>"
      ]
     },
     "execution_count": 27,
     "metadata": {},
     "output_type": "execute_result"
    },
    {
     "data": {
      "image/png": "[encoded data removed]",
      "text/plain": [
       "<Figure size 432x288 with 1 Axes>"
      ]
     },
     "metadata": {
      "needs_background": "light"
     },
     "output_type": "display_data"
    }
   ],
   "source": [
    "image = preprocess_function_cqt(tf.convert_to_tensor(df['path'][2]))\n",
    "print(image.shape)\n",
    "plt.imshow(image)"
   ]
  },
  {
   "cell_type": "markdown",
   "id": "9cc8cc01",
   "metadata": {
    "papermill": {
     "duration": 0.069296,
     "end_time": "2021-09-16T10:19:53.618735",
     "exception": false,
     "start_time": "2021-09-16T10:19:53.549439",
     "status": "completed"
    },
    "tags": []
   },
   "source": [
    "for a different path"
   ]
  },
  {
   "cell_type": "code",
   "execution_count": 28,
   "id": "924b0ba1",
   "metadata": {
    "execution": {
     "iopub.execute_input": "2021-09-16T10:19:53.760232Z",
     "iopub.status.busy": "2021-09-16T10:19:53.759626Z",
     "iopub.status.idle": "2021-09-16T10:19:53.958878Z",
     "shell.execute_reply": "2021-09-16T10:19:53.958459Z",
     "shell.execute_reply.started": "2021-09-16T05:34:55.761508Z"
    },
    "papermill": {
     "duration": 0.272033,
     "end_time": "2021-09-16T10:19:53.958994",
     "exception": false,
     "start_time": "2021-09-16T10:19:53.686961",
     "status": "completed"
    },
    "tags": []
   },
   "outputs": [
    {
     "name": "stdout",
     "output_type": "stream",
     "text": [
      "(56, 193, 1)\n"
     ]
    },
    {
     "data": {
      "text/plain": [
       "<matplotlib.image.AxesImage at 0x7ff6054cd3d0>"
      ]
     },
     "execution_count": 28,
     "metadata": {},
     "output_type": "execute_result"
    },
    {
     "data": {
      "image/png": "[encoded data removed]",
      "text/plain": [
       "<Figure size 432x288 with 1 Axes>"
      ]
     },
     "metadata": {
      "needs_background": "light"
     },
     "output_type": "display_data"
    }
   ],
   "source": [
    "image = preprocess_function_cqt(tf.convert_to_tensor(df['path'][5069]))\n",
    "print(image.shape)\n",
    "plt.imshow(image)"
   ]
  },
  {
   "cell_type": "markdown",
   "id": "1a76a833",
   "metadata": {
    "papermill": {
     "duration": 0.073419,
     "end_time": "2021-09-16T10:19:54.104333",
     "exception": false,
     "start_time": "2021-09-16T10:19:54.030914",
     "status": "completed"
    },
    "tags": []
   },
   "source": [
    "we can see that the image shape is **(56, 193, 1)**, so thats our shpa eof the input."
   ]
  },
  {
   "cell_type": "code",
   "execution_count": 29,
   "id": "12eb6b95",
   "metadata": {
    "execution": {
     "iopub.execute_input": "2021-09-16T10:19:54.251108Z",
     "iopub.status.busy": "2021-09-16T10:19:54.250210Z",
     "iopub.status.idle": "2021-09-16T10:19:54.252379Z",
     "shell.execute_reply": "2021-09-16T10:19:54.252807Z",
     "shell.execute_reply.started": "2021-09-16T05:34:56.037903Z"
    },
    "papermill": {
     "duration": 0.077423,
     "end_time": "2021-09-16T10:19:54.252949",
     "exception": false,
     "start_time": "2021-09-16T10:19:54.175526",
     "status": "completed"
    },
    "tags": []
   },
   "outputs": [],
   "source": [
    "input_shape = (56, 193, 1)"
   ]
  },
  {
   "cell_type": "code",
   "execution_count": 30,
   "id": "0f0b3437",
   "metadata": {
    "execution": {
     "iopub.execute_input": "2021-09-16T10:19:54.399158Z",
     "iopub.status.busy": "2021-09-16T10:19:54.398446Z",
     "iopub.status.idle": "2021-09-16T10:19:54.400538Z",
     "shell.execute_reply": "2021-09-16T10:19:54.400942Z",
     "shell.execute_reply.started": "2021-09-16T05:34:56.045399Z"
    },
    "papermill": {
     "duration": 0.077716,
     "end_time": "2021-09-16T10:19:54.401060",
     "exception": false,
     "start_time": "2021-09-16T10:19:54.323344",
     "status": "completed"
    },
    "tags": []
   },
   "outputs": [],
   "source": [
    "def preprocess_function_parse_tf(path, y=None):\n",
    "    [x] = tf.py_function(func=preprocess_function_cqt, inp=[path], Tout=[tf.float32])\n",
    "    x = tf.ensure_shape(x, input_shape)\n",
    "    if y is None:\n",
    "        return x\n",
    "    else:\n",
    "        return x,y"
   ]
  },
  {
   "cell_type": "code",
   "execution_count": 31,
   "id": "21b3237b",
   "metadata": {
    "execution": {
     "iopub.execute_input": "2021-09-16T10:19:54.551688Z",
     "iopub.status.busy": "2021-09-16T10:19:54.550978Z",
     "iopub.status.idle": "2021-09-16T10:19:54.553218Z",
     "shell.execute_reply": "2021-09-16T10:19:54.553579Z",
     "shell.execute_reply.started": "2021-09-16T05:34:56.056211Z"
    },
    "papermill": {
     "duration": 0.076554,
     "end_time": "2021-09-16T10:19:54.553699",
     "exception": false,
     "start_time": "2021-09-16T10:19:54.477145",
     "status": "completed"
    },
    "tags": []
   },
   "outputs": [],
   "source": [
    "# preprocess_function_parse_tf(tf.convert_to_tensor(df['path'][5069]))"
   ]
  },
  {
   "cell_type": "markdown",
   "id": "41d3695f",
   "metadata": {
    "papermill": {
     "duration": 0.070797,
     "end_time": "2021-09-16T10:19:54.695754",
     "exception": false,
     "start_time": "2021-09-16T10:19:54.624957",
     "status": "completed"
    },
    "tags": []
   },
   "source": [
    "### I will define the `training` and `validation` dataset from `df`"
   ]
  },
  {
   "cell_type": "code",
   "execution_count": 32,
   "id": "c2586d46",
   "metadata": {
    "execution": {
     "iopub.execute_input": "2021-09-16T10:19:54.842795Z",
     "iopub.status.busy": "2021-09-16T10:19:54.842182Z",
     "iopub.status.idle": "2021-09-16T10:19:54.844466Z",
     "shell.execute_reply": "2021-09-16T10:19:54.844925Z",
     "shell.execute_reply.started": "2021-09-16T05:34:56.066355Z"
    },
    "papermill": {
     "duration": 0.078153,
     "end_time": "2021-09-16T10:19:54.845047",
     "exception": false,
     "start_time": "2021-09-16T10:19:54.766894",
     "status": "completed"
    },
    "tags": []
   },
   "outputs": [],
   "source": [
    "X = df['id']\n",
    "y = df['target'].astype('int8').values"
   ]
  },
  {
   "cell_type": "code",
   "execution_count": 33,
   "id": "ae64d327",
   "metadata": {
    "execution": {
     "iopub.execute_input": "2021-09-16T10:19:54.991924Z",
     "iopub.status.busy": "2021-09-16T10:19:54.991233Z",
     "iopub.status.idle": "2021-09-16T10:19:54.993860Z",
     "shell.execute_reply": "2021-09-16T10:19:54.994328Z",
     "shell.execute_reply.started": "2021-09-16T05:34:56.077795Z"
    },
    "papermill": {
     "duration": 0.078591,
     "end_time": "2021-09-16T10:19:54.994447",
     "exception": false,
     "start_time": "2021-09-16T10:19:54.915856",
     "status": "completed"
    },
    "tags": []
   },
   "outputs": [
    {
     "data": {
      "text/plain": [
       "array([1, 0, 1, ..., 1, 1, 0], dtype=int8)"
      ]
     },
     "execution_count": 33,
     "metadata": {},
     "output_type": "execute_result"
    }
   ],
   "source": [
    "y"
   ]
  },
  {
   "cell_type": "code",
   "execution_count": 34,
   "id": "e1ec1043",
   "metadata": {
    "execution": {
     "iopub.execute_input": "2021-09-16T10:19:55.144397Z",
     "iopub.status.busy": "2021-09-16T10:19:55.143385Z",
     "iopub.status.idle": "2021-09-16T10:19:55.543705Z",
     "shell.execute_reply": "2021-09-16T10:19:55.543252Z",
     "shell.execute_reply.started": "2021-09-16T05:34:56.091067Z"
    },
    "papermill": {
     "duration": 0.478095,
     "end_time": "2021-09-16T10:19:55.543834",
     "exception": false,
     "start_time": "2021-09-16T10:19:55.065739",
     "status": "completed"
    },
    "tags": []
   },
   "outputs": [],
   "source": [
    "x_train, x_valid, y_train, y_valid = train_test_split(X, y, random_state = 42, stratify = y)"
   ]
  },
  {
   "cell_type": "code",
   "execution_count": 35,
   "id": "ca5d80ba",
   "metadata": {
    "execution": {
     "iopub.execute_input": "2021-09-16T10:19:55.690801Z",
     "iopub.status.busy": "2021-09-16T10:19:55.690288Z",
     "iopub.status.idle": "2021-09-16T10:19:55.694074Z",
     "shell.execute_reply": "2021-09-16T10:19:55.693666Z",
     "shell.execute_reply.started": "2021-09-16T05:34:56.506466Z"
    },
    "papermill": {
     "duration": 0.077965,
     "end_time": "2021-09-16T10:19:55.694194",
     "exception": false,
     "start_time": "2021-09-16T10:19:55.616229",
     "status": "completed"
    },
    "tags": []
   },
   "outputs": [],
   "source": [
    "batch_size = 250"
   ]
  },
  {
   "cell_type": "code",
   "execution_count": 36,
   "id": "78f4ea74",
   "metadata": {
    "execution": {
     "iopub.execute_input": "2021-09-16T10:19:55.842717Z",
     "iopub.status.busy": "2021-09-16T10:19:55.841966Z",
     "iopub.status.idle": "2021-09-16T10:19:55.843974Z",
     "shell.execute_reply": "2021-09-16T10:19:55.844345Z",
     "shell.execute_reply.started": "2021-09-16T05:34:56.514124Z"
    },
    "papermill": {
     "duration": 0.078519,
     "end_time": "2021-09-16T10:19:55.844468",
     "exception": false,
     "start_time": "2021-09-16T10:19:55.765949",
     "status": "completed"
    },
    "tags": []
   },
   "outputs": [],
   "source": [
    "def get_npy_filepath(id_, is_train=True):\n",
    "    path = ''\n",
    "    if is_train:\n",
    "        return f'../input/g2net-gravitational-wave-detection/train/{id_[0]}/{id_[1]}/{id_[2]}/{id_}.npy'\n",
    "    else:\n",
    "        return f'../input/g2net-gravitational-wave-detection/test/{id_[0]}/{id_[1]}/{id_[2]}/{id_}.npy'"
   ]
  },
  {
   "cell_type": "code",
   "execution_count": 37,
   "id": "df25e9bf",
   "metadata": {
    "execution": {
     "iopub.execute_input": "2021-09-16T10:19:55.992893Z",
     "iopub.status.busy": "2021-09-16T10:19:55.992087Z",
     "iopub.status.idle": "2021-09-16T10:19:56.485164Z",
     "shell.execute_reply": "2021-09-16T10:19:56.484700Z",
     "shell.execute_reply.started": "2021-09-16T05:34:56.525911Z"
    },
    "papermill": {
     "duration": 0.57005,
     "end_time": "2021-09-16T10:19:56.485293",
     "exception": false,
     "start_time": "2021-09-16T10:19:55.915243",
     "status": "completed"
    },
    "tags": []
   },
   "outputs": [],
   "source": [
    "train_dataset = tf.data.Dataset.from_tensor_slices((x_train.apply(get_npy_filepath).values, y_train))\n",
    "# shuffle the dataset\n",
    "train_dataset = train_dataset.shuffle(len(x_train))\n",
    "train_dataset = train_dataset.map(preprocess_function_parse_tf, num_parallel_calls=tf.data.AUTOTUNE)\n",
    "train_dataset = train_dataset.batch(batch_size)\n",
    "train_dataset = train_dataset.prefetch(tf.data.AUTOTUNE)"
   ]
  },
  {
   "cell_type": "code",
   "execution_count": 38,
   "id": "d2799c87",
   "metadata": {
    "execution": {
     "iopub.execute_input": "2021-09-16T10:19:56.699756Z",
     "iopub.status.busy": "2021-09-16T10:19:56.698990Z",
     "iopub.status.idle": "2021-09-16T10:19:56.900964Z",
     "shell.execute_reply": "2021-09-16T10:19:56.902142Z",
     "shell.execute_reply.started": "2021-09-16T05:34:57.103565Z"
    },
    "papermill": {
     "duration": 0.334146,
     "end_time": "2021-09-16T10:19:56.902365",
     "exception": false,
     "start_time": "2021-09-16T10:19:56.568219",
     "status": "completed"
    },
    "tags": []
   },
   "outputs": [],
   "source": [
    "valid_dataset = tf.data.Dataset.from_tensor_slices((x_valid.apply(get_npy_filepath).values, y_valid))\n",
    "valid_dataset = valid_dataset.map(preprocess_function_parse_tf, num_parallel_calls=tf.data.AUTOTUNE)\n",
    "valid_dataset = valid_dataset.batch(batch_size)\n",
    "valid_dataset = valid_dataset.prefetch(tf.data.AUTOTUNE)"
   ]
  },
  {
   "cell_type": "code",
   "execution_count": 39,
   "id": "13b9cf77",
   "metadata": {
    "execution": {
     "iopub.execute_input": "2021-09-16T10:19:57.149588Z",
     "iopub.status.busy": "2021-09-16T10:19:57.148817Z",
     "iopub.status.idle": "2021-09-16T10:19:57.153188Z",
     "shell.execute_reply": "2021-09-16T10:19:57.153739Z",
     "shell.execute_reply.started": "2021-09-16T05:34:57.257214Z"
    },
    "papermill": {
     "duration": 0.130902,
     "end_time": "2021-09-16T10:19:57.153939",
     "exception": false,
     "start_time": "2021-09-16T10:19:57.023037",
     "status": "completed"
    },
    "tags": []
   },
   "outputs": [
    {
     "data": {
      "text/plain": [
       "<PrefetchDataset shapes: ((None, 56, 193, 1), (None,)), types: (tf.float32, tf.int8)>"
      ]
     },
     "execution_count": 39,
     "metadata": {},
     "output_type": "execute_result"
    }
   ],
   "source": [
    "train_dataset"
   ]
  },
  {
   "cell_type": "code",
   "execution_count": 40,
   "id": "2a7ee921",
   "metadata": {
    "execution": {
     "iopub.execute_input": "2021-09-16T10:19:57.398275Z",
     "iopub.status.busy": "2021-09-16T10:19:57.397437Z",
     "iopub.status.idle": "2021-09-16T10:19:57.400735Z",
     "shell.execute_reply": "2021-09-16T10:19:57.398959Z",
     "shell.execute_reply.started": "2021-09-16T05:34:57.267902Z"
    },
    "papermill": {
     "duration": 0.129375,
     "end_time": "2021-09-16T10:19:57.400899",
     "exception": false,
     "start_time": "2021-09-16T10:19:57.271524",
     "status": "completed"
    },
    "tags": []
   },
   "outputs": [
    {
     "data": {
      "text/plain": [
       "<PrefetchDataset shapes: ((None, 56, 193, 1), (None,)), types: (tf.float32, tf.int8)>"
      ]
     },
     "execution_count": 40,
     "metadata": {},
     "output_type": "execute_result"
    }
   ],
   "source": [
    "valid_dataset"
   ]
  },
  {
   "cell_type": "markdown",
   "id": "7c773561",
   "metadata": {
    "papermill": {
     "duration": 0.119021,
     "end_time": "2021-09-16T10:19:57.637951",
     "exception": false,
     "start_time": "2021-09-16T10:19:57.518930",
     "status": "completed"
    },
    "tags": []
   },
   "source": [
    "# Creating the Model"
   ]
  },
  {
   "cell_type": "code",
   "execution_count": 41,
   "id": "3e4b2f91",
   "metadata": {
    "execution": {
     "iopub.execute_input": "2021-09-16T10:19:57.806290Z",
     "iopub.status.busy": "2021-09-16T10:19:57.804582Z",
     "iopub.status.idle": "2021-09-16T10:19:57.809635Z",
     "shell.execute_reply": "2021-09-16T10:19:57.809239Z",
     "shell.execute_reply.started": "2021-09-16T05:34:57.281974Z"
    },
    "papermill": {
     "duration": 0.080423,
     "end_time": "2021-09-16T10:19:57.809744",
     "exception": false,
     "start_time": "2021-09-16T10:19:57.729321",
     "status": "completed"
    },
    "tags": []
   },
   "outputs": [
    {
     "data": {
      "text/plain": [
       "<TakeDataset shapes: ((None, 56, 193, 1), (None,)), types: (tf.float32, tf.int8)>"
      ]
     },
     "execution_count": 41,
     "metadata": {},
     "output_type": "execute_result"
    }
   ],
   "source": [
    "train_dataset.take(1)"
   ]
  },
  {
   "cell_type": "markdown",
   "id": "d847c4b8",
   "metadata": {
    "papermill": {
     "duration": 0.071675,
     "end_time": "2021-09-16T10:19:57.953872",
     "exception": false,
     "start_time": "2021-09-16T10:19:57.882197",
     "status": "completed"
    },
    "tags": []
   },
   "source": [
    "Model from [here](https://github.com/SiddharthPatel45/gravitational-wave-detection/blob/main/code/gw-detection-modelling.ipynb) ~"
   ]
  },
  {
   "cell_type": "code",
   "execution_count": 42,
   "id": "9efc1aec",
   "metadata": {
    "execution": {
     "iopub.execute_input": "2021-09-16T10:19:58.109034Z",
     "iopub.status.busy": "2021-09-16T10:19:58.108299Z",
     "iopub.status.idle": "2021-09-16T10:19:58.467860Z",
     "shell.execute_reply": "2021-09-16T10:19:58.467395Z",
     "shell.execute_reply.started": "2021-09-16T05:34:57.294421Z"
    },
    "papermill": {
     "duration": 0.441072,
     "end_time": "2021-09-16T10:19:58.467996",
     "exception": false,
     "start_time": "2021-09-16T10:19:58.026924",
     "status": "completed"
    },
    "tags": []
   },
   "outputs": [],
   "source": [
    "# Instantiate the Sequential model\n",
    "model_cnn = Sequential(name='CNN_model')\n",
    "\n",
    "# Add the first Convoluted2D layer w/ input_shape & MaxPooling2D layer followed by that\n",
    "model_cnn.add(Conv2D(filters=16,\n",
    "                     kernel_size=3,\n",
    "                     input_shape=input_shape,\n",
    "                     activation='relu',\n",
    "                     name='Conv_01'))\n",
    "model_cnn.add(MaxPooling2D(pool_size=2, name='Pool_01'))\n",
    "\n",
    "# Second pair of Conv1D and MaxPooling1D layers\n",
    "model_cnn.add(Conv2D(filters=32,\n",
    "                     kernel_size=3,\n",
    "                     input_shape=input_shape,\n",
    "                     activation='relu',\n",
    "                     name='Conv_02'))\n",
    "model_cnn.add(MaxPooling2D(pool_size=2, name='Pool_02'))\n",
    "\n",
    "# Third pair of Conv1D and MaxPooling1D layers\n",
    "model_cnn.add(Conv2D(filters=64,\n",
    "                     kernel_size=3,\n",
    "                     input_shape=input_shape,\n",
    "                     activation='relu',\n",
    "                     name='Conv_03'))\n",
    "model_cnn.add(MaxPooling2D(pool_size=2, name='Pool_03'))\n",
    "\n",
    "# Add the Flatten layer\n",
    "model_cnn.add(Flatten(name='Flatten'))\n",
    "\n",
    "# Add the Dense layers\n",
    "model_cnn.add(Dense(units=512,\n",
    "                activation='relu',\n",
    "                name='Dense_01'))\n",
    "model_cnn.add(Dense(units=64,\n",
    "                activation='relu',\n",
    "                name='Dense_02'))\n",
    "\n",
    "# Add the final Output layer\n",
    "model_cnn.add(Dense(1, activation='sigmoid', name='Output'))"
   ]
  },
  {
   "cell_type": "code",
   "execution_count": 43,
   "id": "8584d26a",
   "metadata": {
    "execution": {
     "iopub.execute_input": "2021-09-16T10:19:58.620461Z",
     "iopub.status.busy": "2021-09-16T10:19:58.619657Z",
     "iopub.status.idle": "2021-09-16T10:19:58.631763Z",
     "shell.execute_reply": "2021-09-16T10:19:58.632374Z",
     "shell.execute_reply.started": "2021-09-16T05:34:57.721863Z"
    },
    "papermill": {
     "duration": 0.091805,
     "end_time": "2021-09-16T10:19:58.632540",
     "exception": false,
     "start_time": "2021-09-16T10:19:58.540735",
     "status": "completed"
    },
    "tags": []
   },
   "outputs": [
    {
     "name": "stdout",
     "output_type": "stream",
     "text": [
      "Model: \"CNN_model\"\n",
      "_________________________________________________________________\n",
      "Layer (type)                 Output Shape              Param #   \n",
      "=================================================================\n",
      "Conv_01 (Conv2D)             (None, 54, 191, 16)       160       \n",
      "_________________________________________________________________\n",
      "Pool_01 (MaxPooling2D)       (None, 27, 95, 16)        0         \n",
      "_________________________________________________________________\n",
      "Conv_02 (Conv2D)             (None, 25, 93, 32)        4640      \n",
      "_________________________________________________________________\n",
      "Pool_02 (MaxPooling2D)       (None, 12, 46, 32)        0         \n",
      "_________________________________________________________________\n",
      "Conv_03 (Conv2D)             (None, 10, 44, 64)        18496     \n",
      "_________________________________________________________________\n",
      "Pool_03 (MaxPooling2D)       (None, 5, 22, 64)         0         \n",
      "_________________________________________________________________\n",
      "Flatten (Flatten)            (None, 7040)              0         \n",
      "_________________________________________________________________\n",
      "Dense_01 (Dense)             (None, 512)               3604992   \n",
      "_________________________________________________________________\n",
      "Dense_02 (Dense)             (None, 64)                32832     \n",
      "_________________________________________________________________\n",
      "Output (Dense)               (None, 1)                 65        \n",
      "=================================================================\n",
      "Total params: 3,661,185\n",
      "Trainable params: 3,661,185\n",
      "Non-trainable params: 0\n",
      "_________________________________________________________________\n"
     ]
    }
   ],
   "source": [
    "model_cnn.summary()"
   ]
  },
  {
   "cell_type": "code",
   "execution_count": 44,
   "id": "aaca1d7a",
   "metadata": {
    "execution": {
     "iopub.execute_input": "2021-09-16T10:19:59.023312Z",
     "iopub.status.busy": "2021-09-16T10:19:59.021358Z",
     "iopub.status.idle": "2021-09-16T10:19:59.037785Z",
     "shell.execute_reply": "2021-09-16T10:19:59.037365Z",
     "shell.execute_reply.started": "2021-09-16T05:34:57.742596Z"
    },
    "papermill": {
     "duration": 0.327145,
     "end_time": "2021-09-16T10:19:59.037931",
     "exception": false,
     "start_time": "2021-09-16T10:19:58.710786",
     "status": "completed"
    },
    "tags": []
   },
   "outputs": [],
   "source": [
    "model_cnn.compile(optimizer=Adam(learning_rate=0.0001),\n",
    "                  loss='binary_crossentropy',\n",
    "                  metrics=[[AUC(), 'accuracy']])"
   ]
  },
  {
   "cell_type": "code",
   "execution_count": 45,
   "id": "94874318",
   "metadata": {
    "execution": {
     "iopub.execute_input": "2021-09-16T10:19:59.203507Z",
     "iopub.status.busy": "2021-09-16T10:19:59.202907Z",
     "iopub.status.idle": "2021-09-16T12:55:19.622317Z",
     "shell.execute_reply": "2021-09-16T12:55:19.623051Z",
     "shell.execute_reply.started": "2021-09-16T05:34:58.034027Z"
    },
    "papermill": {
     "duration": 9320.508043,
     "end_time": "2021-09-16T12:55:19.624112",
     "exception": false,
     "start_time": "2021-09-16T10:19:59.116069",
     "status": "completed"
    },
    "tags": []
   },
   "outputs": [
    {
     "name": "stderr",
     "output_type": "stream",
     "text": [
      "2021-09-16 10:19:59.250390: I tensorflow/compiler/mlir/mlir_graph_optimization_pass.cc:116] None of the MLIR optimization passes are enabled (registered 2)\n",
      "2021-09-16 10:19:59.254787: I tensorflow/core/platform/profile_utils/cpu_utils.cc:112] CPU Frequency: 2000179999 Hz\n"
     ]
    },
    {
     "name": "stdout",
     "output_type": "stream",
     "text": [
      "Epoch 1/3\n"
     ]
    },
    {
     "name": "stderr",
     "output_type": "stream",
     "text": [
      "2021-09-16 10:20:00.072237: I tensorflow/stream_executor/platform/default/dso_loader.cc:49] Successfully opened dynamic library libcublas.so.11\n",
      "2021-09-16 10:20:00.995209: I tensorflow/stream_executor/platform/default/dso_loader.cc:49] Successfully opened dynamic library libcublasLt.so.11\n",
      "2021-09-16 10:20:02.343096: I tensorflow/stream_executor/platform/default/dso_loader.cc:49] Successfully opened dynamic library libcudnn.so.8\n"
     ]
    },
    {
     "name": "stdout",
     "output_type": "stream",
     "text": [
      "1680/1680 [==============================] - 3060s 2s/step - loss: 0.5705 - auc: 0.7459 - accuracy: 0.6755 - val_loss: 0.4881 - val_auc: 0.8292 - val_accuracy: 0.7517\n",
      "Epoch 2/3\n",
      "1680/1680 [==============================] - 3111s 2s/step - loss: 0.4868 - auc: 0.8240 - accuracy: 0.7527 - val_loss: 0.4931 - val_auc: 0.8337 - val_accuracy: 0.7477\n",
      "Epoch 3/3\n",
      "1680/1680 [==============================] - 3148s 2s/step - loss: 0.4813 - auc: 0.8279 - accuracy: 0.7568 - val_loss: 0.4761 - val_auc: 0.8362 - val_accuracy: 0.7599\n"
     ]
    }
   ],
   "source": [
    "# Fit the data\n",
    "history_cnn = model_cnn.fit(x=train_dataset,\n",
    "                            epochs=3,\n",
    "                            validation_data=valid_dataset,\n",
    "                            batch_size=batch_size,\n",
    "                            verbose=1)"
   ]
  },
  {
   "cell_type": "markdown",
   "id": "a19d6822",
   "metadata": {
    "papermill": {
     "duration": 1.412747,
     "end_time": "2021-09-16T12:55:22.637163",
     "exception": false,
     "start_time": "2021-09-16T12:55:21.224416",
     "status": "completed"
    },
    "tags": []
   },
   "source": [
    "saving the model after training is complete"
   ]
  },
  {
   "cell_type": "code",
   "execution_count": 46,
   "id": "57694693",
   "metadata": {
    "execution": {
     "iopub.execute_input": "2021-09-16T12:55:25.359857Z",
     "iopub.status.busy": "2021-09-16T12:55:25.359285Z",
     "iopub.status.idle": "2021-09-16T12:55:25.545493Z",
     "shell.execute_reply": "2021-09-16T12:55:25.545026Z",
     "shell.execute_reply.started": "2021-09-16T08:56:01.494984Z"
    },
    "papermill": {
     "duration": 1.55418,
     "end_time": "2021-09-16T12:55:25.545638",
     "exception": false,
     "start_time": "2021-09-16T12:55:23.991458",
     "status": "completed"
    },
    "tags": []
   },
   "outputs": [],
   "source": [
    "model_cnn.save('./model/cnn_model.h5')"
   ]
  },
  {
   "cell_type": "code",
   "execution_count": 47,
   "id": "5289fbf8",
   "metadata": {
    "execution": {
     "iopub.execute_input": "2021-09-16T12:55:28.269863Z",
     "iopub.status.busy": "2021-09-16T12:55:28.269180Z",
     "iopub.status.idle": "2021-09-16T12:55:29.072132Z",
     "shell.execute_reply": "2021-09-16T12:55:29.071605Z",
     "shell.execute_reply.started": "2021-09-16T08:56:01.718009Z"
    },
    "papermill": {
     "duration": 2.166803,
     "end_time": "2021-09-16T12:55:29.072261",
     "exception": false,
     "start_time": "2021-09-16T12:55:26.905458",
     "status": "completed"
    },
    "tags": []
   },
   "outputs": [
    {
     "name": "stdout",
     "output_type": "stream",
     "text": [
      "\u001b[0m\u001b[01;34m.\u001b[0m/  \u001b[01;34m..\u001b[0m/  __notebook__.ipynb  \u001b[01;34mmodel\u001b[0m/\r\n"
     ]
    }
   ],
   "source": [
    "ls -a ./"
   ]
  },
  {
   "cell_type": "markdown",
   "id": "db40ec79",
   "metadata": {
    "papermill": {
     "duration": 1.60315,
     "end_time": "2021-09-16T12:55:32.052500",
     "exception": false,
     "start_time": "2021-09-16T12:55:30.449350",
     "status": "completed"
    },
    "tags": []
   },
   "source": [
    "# Preprocessing Test "
   ]
  },
  {
   "cell_type": "code",
   "execution_count": 48,
   "id": "e83a1993",
   "metadata": {
    "execution": {
     "iopub.execute_input": "2021-09-16T12:55:34.848476Z",
     "iopub.status.busy": "2021-09-16T12:55:34.847672Z",
     "iopub.status.idle": "2021-09-16T12:55:35.548371Z",
     "shell.execute_reply": "2021-09-16T12:55:35.547920Z",
     "shell.execute_reply.started": "2021-09-16T08:56:02.695152Z"
    },
    "papermill": {
     "duration": 2.07027,
     "end_time": "2021-09-16T12:55:35.548503",
     "exception": false,
     "start_time": "2021-09-16T12:55:33.478233",
     "status": "completed"
    },
    "tags": []
   },
   "outputs": [
    {
     "name": "stdout",
     "output_type": "stream",
     "text": [
      "../input/g2net-gravitational-wave-detection/sample_submission.csv\r\n"
     ]
    }
   ],
   "source": [
    "ls -a ../input/g2net-gravitational-wave-detection/sample_submission.csv"
   ]
  },
  {
   "cell_type": "markdown",
   "id": "bb236507",
   "metadata": {
    "papermill": {
     "duration": 1.36968,
     "end_time": "2021-09-16T12:55:38.271399",
     "exception": false,
     "start_time": "2021-09-16T12:55:36.901719",
     "status": "completed"
    },
    "tags": []
   },
   "source": [
    "assigning submission ids to the test set to make prediction on them"
   ]
  },
  {
   "cell_type": "code",
   "execution_count": 49,
   "id": "4a22f38e",
   "metadata": {
    "execution": {
     "iopub.execute_input": "2021-09-16T12:55:40.973363Z",
     "iopub.status.busy": "2021-09-16T12:55:40.972772Z",
     "iopub.status.idle": "2021-09-16T12:55:41.188676Z",
     "shell.execute_reply": "2021-09-16T12:55:41.187746Z",
     "shell.execute_reply.started": "2021-09-16T08:58:02.049066Z"
    },
    "papermill": {
     "duration": 1.574057,
     "end_time": "2021-09-16T12:55:41.188823",
     "exception": false,
     "start_time": "2021-09-16T12:55:39.614766",
     "status": "completed"
    },
    "tags": []
   },
   "outputs": [],
   "source": [
    "sub = pd.read_csv('../input/g2net-gravitational-wave-detection/sample_submission.csv')\n",
    "x_test = sub[['id']]"
   ]
  },
  {
   "cell_type": "code",
   "execution_count": 50,
   "id": "2d541f0f",
   "metadata": {
    "execution": {
     "iopub.execute_input": "2021-09-16T12:55:44.735491Z",
     "iopub.status.busy": "2021-09-16T12:55:44.734337Z",
     "iopub.status.idle": "2021-09-16T12:55:44.737679Z",
     "shell.execute_reply": "2021-09-16T12:55:44.738085Z",
     "shell.execute_reply.started": "2021-09-16T08:58:03.308211Z"
    },
    "papermill": {
     "duration": 1.403808,
     "end_time": "2021-09-16T12:55:44.738228",
     "exception": false,
     "start_time": "2021-09-16T12:55:43.334420",
     "status": "completed"
    },
    "tags": []
   },
   "outputs": [
    {
     "data": {
      "text/html": [
       "<div>\n",
       "<style scoped>\n",
       "    .dataframe tbody tr th:only-of-type {\n",
       "        vertical-align: middle;\n",
       "    }\n",
       "\n",
       "    .dataframe tbody tr th {\n",
       "        vertical-align: top;\n",
       "    }\n",
       "\n",
       "    .dataframe thead th {\n",
       "        text-align: right;\n",
       "    }\n",
       "</style>\n",
       "<table border=\"1\" class=\"dataframe\">\n",
       "  <thead>\n",
       "    <tr style=\"text-align: right;\">\n",
       "      <th></th>\n",
       "      <th>id</th>\n",
       "    </tr>\n",
       "  </thead>\n",
       "  <tbody>\n",
       "    <tr>\n",
       "      <th>225995</th>\n",
       "      <td>ffff4125f1</td>\n",
       "    </tr>\n",
       "    <tr>\n",
       "      <th>225996</th>\n",
       "      <td>ffff9d32a6</td>\n",
       "    </tr>\n",
       "    <tr>\n",
       "      <th>225997</th>\n",
       "      <td>ffff9f4c1f</td>\n",
       "    </tr>\n",
       "    <tr>\n",
       "      <th>225998</th>\n",
       "      <td>ffffa19693</td>\n",
       "    </tr>\n",
       "    <tr>\n",
       "      <th>225999</th>\n",
       "      <td>ffffebbfe2</td>\n",
       "    </tr>\n",
       "  </tbody>\n",
       "</table>\n",
       "</div>"
      ],
      "text/plain": [
       "                id\n",
       "225995  ffff4125f1\n",
       "225996  ffff9d32a6\n",
       "225997  ffff9f4c1f\n",
       "225998  ffffa19693\n",
       "225999  ffffebbfe2"
      ]
     },
     "execution_count": 50,
     "metadata": {},
     "output_type": "execute_result"
    }
   ],
   "source": [
    "x_test.tail()"
   ]
  },
  {
   "cell_type": "code",
   "execution_count": 51,
   "id": "f86e8d10",
   "metadata": {
    "execution": {
     "iopub.execute_input": "2021-09-16T12:55:47.442091Z",
     "iopub.status.busy": "2021-09-16T12:55:47.440995Z",
     "iopub.status.idle": "2021-09-16T12:55:47.764704Z",
     "shell.execute_reply": "2021-09-16T12:55:47.764240Z",
     "shell.execute_reply.started": "2021-09-16T08:58:05.742724Z"
    },
    "papermill": {
     "duration": 1.680839,
     "end_time": "2021-09-16T12:55:47.764851",
     "exception": false,
     "start_time": "2021-09-16T12:55:46.084012",
     "status": "completed"
    },
    "tags": []
   },
   "outputs": [],
   "source": [
    "# test dataset\n",
    "test_dataset = tf.data.Dataset.from_tensor_slices((x_test['id'].apply(get_npy_filepath, is_train=False).values))\n",
    "test_dataset = test_dataset.map(preprocess_function_parse_tf, num_parallel_calls=tf.data.AUTOTUNE)\n",
    "test_dataset = test_dataset.batch(batch_size)\n",
    "test_dataset = test_dataset.prefetch(tf.data.AUTOTUNE)"
   ]
  },
  {
   "cell_type": "code",
   "execution_count": 52,
   "id": "1e4b6781",
   "metadata": {
    "execution": {
     "iopub.execute_input": "2021-09-16T12:55:50.505676Z",
     "iopub.status.busy": "2021-09-16T12:55:50.504835Z",
     "iopub.status.idle": "2021-09-16T12:55:50.508234Z",
     "shell.execute_reply": "2021-09-16T12:55:50.508617Z",
     "shell.execute_reply.started": "2021-09-16T08:58:07.273169Z"
    },
    "papermill": {
     "duration": 1.391257,
     "end_time": "2021-09-16T12:55:50.508771",
     "exception": false,
     "start_time": "2021-09-16T12:55:49.117514",
     "status": "completed"
    },
    "tags": []
   },
   "outputs": [
    {
     "data": {
      "text/plain": [
       "<PrefetchDataset shapes: (None, 56, 193, 1), types: tf.float32>"
      ]
     },
     "execution_count": 52,
     "metadata": {},
     "output_type": "execute_result"
    }
   ],
   "source": [
    "test_dataset"
   ]
  },
  {
   "cell_type": "markdown",
   "id": "1974f385",
   "metadata": {
    "papermill": {
     "duration": 1.537217,
     "end_time": "2021-09-16T12:55:53.443666",
     "exception": false,
     "start_time": "2021-09-16T12:55:51.906449",
     "status": "completed"
    },
    "tags": []
   },
   "source": [
    "# Prediction"
   ]
  },
  {
   "cell_type": "markdown",
   "id": "ab5069f2",
   "metadata": {
    "papermill": {
     "duration": 1.365152,
     "end_time": "2021-09-16T12:55:56.200566",
     "exception": false,
     "start_time": "2021-09-16T12:55:54.835414",
     "status": "completed"
    },
    "tags": []
   },
   "source": [
    "Now, we will load the cnn model that we saved after training to make prediction on `test_dataset`"
   ]
  },
  {
   "cell_type": "code",
   "execution_count": 53,
   "id": "d4c6d9e1",
   "metadata": {
    "execution": {
     "iopub.execute_input": "2021-09-16T12:55:58.899136Z",
     "iopub.status.busy": "2021-09-16T12:55:58.898350Z",
     "iopub.status.idle": "2021-09-16T12:55:59.591122Z",
     "shell.execute_reply": "2021-09-16T12:55:59.590265Z",
     "shell.execute_reply.started": "2021-09-16T08:58:13.324785Z"
    },
    "papermill": {
     "duration": 2.04561,
     "end_time": "2021-09-16T12:55:59.591262",
     "exception": false,
     "start_time": "2021-09-16T12:55:57.545652",
     "status": "completed"
    },
    "tags": []
   },
   "outputs": [
    {
     "name": "stdout",
     "output_type": "stream",
     "text": [
      "\u001b[0m\u001b[01;34m.\u001b[0m/  \u001b[01;34m..\u001b[0m/  cnn_model.h5\r\n"
     ]
    }
   ],
   "source": [
    "ls -a ./model/"
   ]
  },
  {
   "cell_type": "code",
   "execution_count": 54,
   "id": "c71bf516",
   "metadata": {
    "execution": {
     "iopub.execute_input": "2021-09-16T12:56:02.378862Z",
     "iopub.status.busy": "2021-09-16T12:56:02.378308Z",
     "iopub.status.idle": "2021-09-16T12:56:02.571629Z",
     "shell.execute_reply": "2021-09-16T12:56:02.570667Z",
     "shell.execute_reply.started": "2021-09-16T08:58:20.335426Z"
    },
    "papermill": {
     "duration": 1.568635,
     "end_time": "2021-09-16T12:56:02.571769",
     "exception": false,
     "start_time": "2021-09-16T12:56:01.003134",
     "status": "completed"
    },
    "tags": []
   },
   "outputs": [],
   "source": [
    "saved_cnn_model = tf.keras.models.load_model('./model/cnn_model.h5')"
   ]
  },
  {
   "cell_type": "code",
   "execution_count": 55,
   "id": "4a438e7d",
   "metadata": {
    "execution": {
     "iopub.execute_input": "2021-09-16T12:56:05.516502Z",
     "iopub.status.busy": "2021-09-16T12:56:05.515803Z",
     "iopub.status.idle": "2021-09-16T12:56:05.519015Z",
     "shell.execute_reply": "2021-09-16T12:56:05.519406Z",
     "shell.execute_reply.started": "2021-09-16T08:58:32.564092Z"
    },
    "papermill": {
     "duration": 1.591922,
     "end_time": "2021-09-16T12:56:05.519543",
     "exception": false,
     "start_time": "2021-09-16T12:56:03.927621",
     "status": "completed"
    },
    "tags": []
   },
   "outputs": [
    {
     "data": {
      "text/plain": [
       "<tensorflow.python.keras.engine.sequential.Sequential at 0x7ff602277150>"
      ]
     },
     "execution_count": 55,
     "metadata": {},
     "output_type": "execute_result"
    }
   ],
   "source": [
    "saved_cnn_model"
   ]
  },
  {
   "cell_type": "markdown",
   "id": "d403b07c",
   "metadata": {
    "papermill": {
     "duration": 1.346718,
     "end_time": "2021-09-16T12:56:08.217488",
     "exception": false,
     "start_time": "2021-09-16T12:56:06.870770",
     "status": "completed"
    },
    "tags": []
   },
   "source": [
    "retraining the saved model on `valid_dataset`\n",
    "\n",
    "> previously we set x = train_dataset"
   ]
  },
  {
   "cell_type": "code",
   "execution_count": 56,
   "id": "a89755c0",
   "metadata": {
    "execution": {
     "iopub.execute_input": "2021-09-16T12:56:10.985445Z",
     "iopub.status.busy": "2021-09-16T12:56:10.984866Z",
     "iopub.status.idle": "2021-09-16T13:35:57.785311Z",
     "shell.execute_reply": "2021-09-16T13:35:57.785695Z",
     "shell.execute_reply.started": "2021-09-16T08:58:39.091895Z"
    },
    "papermill": {
     "duration": 2388.180379,
     "end_time": "2021-09-16T13:35:57.786415",
     "exception": false,
     "start_time": "2021-09-16T12:56:09.606036",
     "status": "completed"
    },
    "tags": []
   },
   "outputs": [
    {
     "name": "stdout",
     "output_type": "stream",
     "text": [
      "Epoch 1/3\n",
      "560/560 [==============================] - 803s 1s/step - loss: 0.4748 - auc: 0.8332 - accuracy: 0.7614\n",
      "Epoch 2/3\n",
      "560/560 [==============================] - 789s 1s/step - loss: 0.4732 - auc: 0.8343 - accuracy: 0.7622\n",
      "Epoch 3/3\n",
      "560/560 [==============================] - 795s 1s/step - loss: 0.4721 - auc: 0.8351 - accuracy: 0.7624\n"
     ]
    },
    {
     "data": {
      "text/plain": [
       "<tensorflow.python.keras.callbacks.History at 0x7ff60221da90>"
      ]
     },
     "execution_count": 56,
     "metadata": {},
     "output_type": "execute_result"
    }
   ],
   "source": [
    "saved_cnn_model.fit(x=valid_dataset, epochs=3, batch_size=batch_size, verbose=1)"
   ]
  },
  {
   "cell_type": "markdown",
   "id": "8ffb70af",
   "metadata": {
    "papermill": {
     "duration": 1.816094,
     "end_time": "2021-09-16T13:36:01.442353",
     "exception": false,
     "start_time": "2021-09-16T13:35:59.626259",
     "status": "completed"
    },
    "tags": []
   },
   "source": [
    "Now saving the full model after training to make prediction on `test_dataset`"
   ]
  },
  {
   "cell_type": "code",
   "execution_count": 57,
   "id": "b78c8504",
   "metadata": {
    "execution": {
     "iopub.execute_input": "2021-09-16T13:36:05.778776Z",
     "iopub.status.busy": "2021-09-16T13:36:05.777344Z",
     "iopub.status.idle": "2021-09-16T13:36:05.893162Z",
     "shell.execute_reply": "2021-09-16T13:36:05.892632Z",
     "shell.execute_reply.started": "2021-09-16T09:45:21.200214Z"
    },
    "papermill": {
     "duration": 2.347351,
     "end_time": "2021-09-16T13:36:05.893299",
     "exception": false,
     "start_time": "2021-09-16T13:36:03.545948",
     "status": "completed"
    },
    "tags": []
   },
   "outputs": [],
   "source": [
    "saved_cnn_model.save('./model/full_cnn_model.h5')"
   ]
  },
  {
   "cell_type": "code",
   "execution_count": 58,
   "id": "44d85522",
   "metadata": {
    "execution": {
     "iopub.execute_input": "2021-09-16T13:36:09.512643Z",
     "iopub.status.busy": "2021-09-16T13:36:09.512040Z",
     "iopub.status.idle": "2021-09-16T13:36:09.723248Z",
     "shell.execute_reply": "2021-09-16T13:36:09.722694Z",
     "shell.execute_reply.started": "2021-09-16T09:45:21.379139Z"
    },
    "papermill": {
     "duration": 2.004736,
     "end_time": "2021-09-16T13:36:09.723381",
     "exception": false,
     "start_time": "2021-09-16T13:36:07.718645",
     "status": "completed"
    },
    "tags": []
   },
   "outputs": [],
   "source": [
    "full_cnn_model = tf.keras.models.load_model('./model/full_cnn_model.h5')"
   ]
  },
  {
   "cell_type": "code",
   "execution_count": 59,
   "id": "2bb3737d",
   "metadata": {
    "execution": {
     "iopub.execute_input": "2021-09-16T13:36:13.508207Z",
     "iopub.status.busy": "2021-09-16T13:36:13.507376Z",
     "iopub.status.idle": "2021-09-16T13:59:24.198259Z",
     "shell.execute_reply": "2021-09-16T13:59:24.196532Z",
     "shell.execute_reply.started": "2021-09-16T09:45:21.666748Z"
    },
    "papermill": {
     "duration": 1392.683713,
     "end_time": "2021-09-16T13:59:24.199682",
     "exception": false,
     "start_time": "2021-09-16T13:36:11.515969",
     "status": "completed"
    },
    "tags": []
   },
   "outputs": [],
   "source": [
    "prediction = full_cnn_model.predict(test_dataset)"
   ]
  },
  {
   "cell_type": "code",
   "execution_count": 60,
   "id": "b3341482",
   "metadata": {
    "execution": {
     "iopub.execute_input": "2021-09-16T13:59:27.890197Z",
     "iopub.status.busy": "2021-09-16T13:59:27.889379Z",
     "iopub.status.idle": "2021-09-16T13:59:27.892500Z",
     "shell.execute_reply": "2021-09-16T13:59:27.892922Z",
     "shell.execute_reply.started": "2021-09-16T10:12:52.961105Z"
    },
    "papermill": {
     "duration": 1.81119,
     "end_time": "2021-09-16T13:59:27.893086",
     "exception": false,
     "start_time": "2021-09-16T13:59:26.081896",
     "status": "completed"
    },
    "tags": []
   },
   "outputs": [
    {
     "data": {
      "text/plain": [
       "array([[0.9999392 ],\n",
       "       [0.73540634],\n",
       "       [0.25192785],\n",
       "       ...,\n",
       "       [0.2072532 ],\n",
       "       [0.9596004 ],\n",
       "       [0.07191069]], dtype=float32)"
      ]
     },
     "execution_count": 60,
     "metadata": {},
     "output_type": "execute_result"
    }
   ],
   "source": [
    "prediction"
   ]
  },
  {
   "cell_type": "code",
   "execution_count": 61,
   "id": "70f94c18",
   "metadata": {
    "execution": {
     "iopub.execute_input": "2021-09-16T13:59:31.776619Z",
     "iopub.status.busy": "2021-09-16T13:59:31.775737Z",
     "iopub.status.idle": "2021-09-16T13:59:31.778314Z",
     "shell.execute_reply": "2021-09-16T13:59:31.777881Z",
     "shell.execute_reply.started": "2021-09-16T10:12:52.990391Z"
    },
    "papermill": {
     "duration": 2.051946,
     "end_time": "2021-09-16T13:59:31.778431",
     "exception": false,
     "start_time": "2021-09-16T13:59:29.726485",
     "status": "completed"
    },
    "tags": []
   },
   "outputs": [],
   "source": [
    "prediction = prediction.flatten()"
   ]
  },
  {
   "cell_type": "markdown",
   "id": "a2f647db",
   "metadata": {
    "papermill": {
     "duration": 1.786033,
     "end_time": "2021-09-16T13:59:35.347226",
     "exception": false,
     "start_time": "2021-09-16T13:59:33.561193",
     "status": "completed"
    },
    "tags": []
   },
   "source": [
    "# Preparing to Submit"
   ]
  },
  {
   "cell_type": "code",
   "execution_count": 62,
   "id": "366a3f25",
   "metadata": {
    "execution": {
     "iopub.execute_input": "2021-09-16T13:59:38.991201Z",
     "iopub.status.busy": "2021-09-16T13:59:38.990455Z",
     "iopub.status.idle": "2021-09-16T13:59:39.004220Z",
     "shell.execute_reply": "2021-09-16T13:59:39.003787Z",
     "shell.execute_reply.started": "2021-09-16T10:12:53.001258Z"
    },
    "papermill": {
     "duration": 1.820529,
     "end_time": "2021-09-16T13:59:39.004342",
     "exception": false,
     "start_time": "2021-09-16T13:59:37.183813",
     "status": "completed"
    },
    "tags": []
   },
   "outputs": [],
   "source": [
    "submission = pd.DataFrame({'id': x_test.id, 'target': prediction})"
   ]
  },
  {
   "cell_type": "code",
   "execution_count": 63,
   "id": "f399c725",
   "metadata": {
    "execution": {
     "iopub.execute_input": "2021-09-16T13:59:42.887086Z",
     "iopub.status.busy": "2021-09-16T13:59:42.885835Z",
     "iopub.status.idle": "2021-09-16T13:59:42.889019Z",
     "shell.execute_reply": "2021-09-16T13:59:42.889424Z",
     "shell.execute_reply.started": "2021-09-16T10:12:53.033142Z"
    },
    "papermill": {
     "duration": 2.038658,
     "end_time": "2021-09-16T13:59:42.889555",
     "exception": false,
     "start_time": "2021-09-16T13:59:40.850897",
     "status": "completed"
    },
    "tags": []
   },
   "outputs": [
    {
     "data": {
      "text/plain": [
       "(226000, 2)"
      ]
     },
     "execution_count": 63,
     "metadata": {},
     "output_type": "execute_result"
    }
   ],
   "source": [
    "submission.shape"
   ]
  },
  {
   "cell_type": "code",
   "execution_count": 64,
   "id": "1c84ac70",
   "metadata": {
    "execution": {
     "iopub.execute_input": "2021-09-16T13:59:46.574652Z",
     "iopub.status.busy": "2021-09-16T13:59:46.570420Z",
     "iopub.status.idle": "2021-09-16T13:59:46.577627Z",
     "shell.execute_reply": "2021-09-16T13:59:46.578054Z",
     "shell.execute_reply.started": "2021-09-16T10:12:53.047013Z"
    },
    "papermill": {
     "duration": 1.897309,
     "end_time": "2021-09-16T13:59:46.578193",
     "exception": false,
     "start_time": "2021-09-16T13:59:44.680884",
     "status": "completed"
    },
    "tags": []
   },
   "outputs": [
    {
     "data": {
      "text/html": [
       "<div>\n",
       "<style scoped>\n",
       "    .dataframe tbody tr th:only-of-type {\n",
       "        vertical-align: middle;\n",
       "    }\n",
       "\n",
       "    .dataframe tbody tr th {\n",
       "        vertical-align: top;\n",
       "    }\n",
       "\n",
       "    .dataframe thead th {\n",
       "        text-align: right;\n",
       "    }\n",
       "</style>\n",
       "<table border=\"1\" class=\"dataframe\">\n",
       "  <thead>\n",
       "    <tr style=\"text-align: right;\">\n",
       "      <th></th>\n",
       "      <th>id</th>\n",
       "      <th>target</th>\n",
       "    </tr>\n",
       "  </thead>\n",
       "  <tbody>\n",
       "    <tr>\n",
       "      <th>0</th>\n",
       "      <td>00005bced6</td>\n",
       "      <td>0.999939</td>\n",
       "    </tr>\n",
       "    <tr>\n",
       "      <th>1</th>\n",
       "      <td>0000806717</td>\n",
       "      <td>0.735406</td>\n",
       "    </tr>\n",
       "    <tr>\n",
       "      <th>2</th>\n",
       "      <td>0000ef4fe1</td>\n",
       "      <td>0.251928</td>\n",
       "    </tr>\n",
       "    <tr>\n",
       "      <th>3</th>\n",
       "      <td>00020de251</td>\n",
       "      <td>0.336016</td>\n",
       "    </tr>\n",
       "    <tr>\n",
       "      <th>4</th>\n",
       "      <td>00024887b5</td>\n",
       "      <td>0.188438</td>\n",
       "    </tr>\n",
       "  </tbody>\n",
       "</table>\n",
       "</div>"
      ],
      "text/plain": [
       "           id    target\n",
       "0  00005bced6  0.999939\n",
       "1  0000806717  0.735406\n",
       "2  0000ef4fe1  0.251928\n",
       "3  00020de251  0.336016\n",
       "4  00024887b5  0.188438"
      ]
     },
     "execution_count": 64,
     "metadata": {},
     "output_type": "execute_result"
    }
   ],
   "source": [
    "submission.head()"
   ]
  },
  {
   "cell_type": "code",
   "execution_count": 65,
   "id": "161f44eb",
   "metadata": {
    "execution": {
     "iopub.execute_input": "2021-09-16T13:59:50.763621Z",
     "iopub.status.busy": "2021-09-16T13:59:50.762982Z",
     "iopub.status.idle": "2021-09-16T13:59:51.365646Z",
     "shell.execute_reply": "2021-09-16T13:59:51.364817Z",
     "shell.execute_reply.started": "2021-09-16T10:12:53.091061Z"
    },
    "papermill": {
     "duration": 2.674311,
     "end_time": "2021-09-16T13:59:51.365777",
     "exception": false,
     "start_time": "2021-09-16T13:59:48.691466",
     "status": "completed"
    },
    "tags": []
   },
   "outputs": [],
   "source": [
    "submission.to_csv('./submission.csv', index= False)"
   ]
  },
  {
   "cell_type": "markdown",
   "id": "7eb4a1be",
   "metadata": {
    "papermill": {
     "duration": 1.794236,
     "end_time": "2021-09-16T13:59:55.213466",
     "exception": false,
     "start_time": "2021-09-16T13:59:53.419230",
     "status": "completed"
    },
    "tags": []
   },
   "source": [
    "I started with zero idea and I ended up learning about a lot of new things. I am very much thankful to all these resources that help me increase my knowledge and give me more insight as I proceed to improve my skills on my coding journey.\n",
    "\n",
    "I tried referencing as much as I could."
   ]
  }
 ],
 "metadata": {
  "kernelspec": {
   "display_name": "Python 3",
   "language": "python",
   "name": "python3"
  },
  "language_info": {
   "codemirror_mode": {
    "name": "ipython",
    "version": 3
   },
   "file_extension": ".py",
   "mimetype": "text/x-python",
   "name": "python",
   "nbconvert_exporter": "python",
   "pygments_lexer": "ipython3",
   "version": "3.7.10"
  },
  "papermill": {
   "default_parameters": {},
   "duration": 13329.060377,
   "end_time": "2021-09-16T13:59:59.760078",
   "environment_variables": {},
   "exception": null,
   "input_path": "__notebook__.ipynb",
   "output_path": "__notebook__.ipynb",
   "parameters": {},
   "start_time": "2021-09-16T10:17:50.699701",
   "version": "2.3.3"
  }
 },
 "nbformat": 4,
 "nbformat_minor": 5
}
